{
 "cells": [
  {
   "cell_type": "code",
   "execution_count": 1,
   "id": "53e48e36-38a7-443e-add7-22c7634c00f0",
   "metadata": {
    "tags": []
   },
   "outputs": [
    {
     "name": "stderr",
     "output_type": "stream",
     "text": [
      "/opt/conda/lib/python3.9/site-packages/tqdm/auto.py:22: TqdmWarning: IProgress not found. Please update jupyter and ipywidgets. See https://ipywidgets.readthedocs.io/en/stable/user_install.html\n",
      "  from .autonotebook import tqdm as notebook_tqdm\n"
     ]
    }
   ],
   "source": [
    "import pandas as pd\n",
    "import warnings\n",
    "\n",
    "from allensdk.brain_observatory.behavior.behavior_project_cache import (\n",
    "    VisualBehaviorNeuropixelsProjectCache,\n",
    ")\n",
    "\n",
    "import utils\n",
    "\n",
    "warnings.filterwarnings(\"ignore\")"
   ]
  },
  {
   "cell_type": "code",
   "execution_count": 2,
   "id": "9f810ea2-6758-4745-989b-cbb88196c196",
   "metadata": {
    "tags": []
   },
   "outputs": [],
   "source": [
    "cache_dir = utils.get_data_root()\n",
    "cache = VisualBehaviorNeuropixelsProjectCache.from_local_cache(\n",
    "    cache_dir=cache_dir, use_static_cache=True\n",
    ")"
   ]
  },
  {
   "cell_type": "code",
   "execution_count": 3,
   "id": "ea245dd7-cca3-4cbb-904d-4e9cd44a7f67",
   "metadata": {
    "tags": []
   },
   "outputs": [],
   "source": [
    "behavior_table = cache.get_behavior_session_table()\n",
    "behavior_table = behavior_table.loc[~behavior_table[\"ecephys_session_id\"].isna()]"
   ]
  },
  {
   "cell_type": "code",
   "execution_count": 4,
   "id": "78f39d88-d7f0-4661-a049-7e0a694e192e",
   "metadata": {
    "tags": []
   },
   "outputs": [],
   "source": [
    "ephys_table = cache.get_ecephys_session_table()"
   ]
  },
  {
   "cell_type": "code",
   "execution_count": 5,
   "id": "3c2de498-20d2-4778-900b-c7fa79236e6c",
   "metadata": {
    "tags": []
   },
   "outputs": [],
   "source": [
    "def get_hit_proportion(session):\n",
    "    metrics = session.get_performance_metrics()\n",
    "    hit_rate = metrics[\"hit_trial_count\"] / metrics[\"go_trial_count\"]\n",
    "    return hit_rate"
   ]
  },
  {
   "cell_type": "code",
   "execution_count": null,
   "id": "9137f955-efa9-4f48-9348-a7b177da1850",
   "metadata": {
    "tags": []
   },
   "outputs": [],
   "source": [
    "%%time\n",
    "hit_rates = utils.parallel_session_map(get_hit_proportion, ephys_table.index, \"ephys\")"
   ]
  },
  {
   "cell_type": "code",
   "execution_count": null,
   "id": "6d0f7fcb-236e-40fb-b147-b1a1d2be00e9",
   "metadata": {
    "tags": []
   },
   "outputs": [],
   "source": [
    "hit_rates"
   ]
  }
 ],
 "metadata": {
  "kernelspec": {
   "display_name": "Python 3 (ipykernel)",
   "language": "python",
   "name": "python3"
  },
  "language_info": {
   "codemirror_mode": {
    "name": "ipython",
    "version": 3
   },
   "file_extension": ".py",
   "mimetype": "text/x-python",
   "name": "python",
   "nbconvert_exporter": "python",
   "pygments_lexer": "ipython3",
   "version": "3.9.12"
  }
 },
 "nbformat": 4,
 "nbformat_minor": 5
}
