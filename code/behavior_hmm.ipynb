{
 "cells": [
  {
   "cell_type": "markdown",
   "id": "ea6e7263-8458-4f62-82e7-cadee4e4c171",
   "metadata": {},
   "source": [
    "# Boilerplate"
   ]
  },
  {
   "cell_type": "code",
   "execution_count": 1,
   "id": "617b2c0f-2dd5-40c6-853f-84eceb0419b9",
   "metadata": {
    "tags": []
   },
   "outputs": [],
   "source": [
    "from typing import Union\n",
    "from allensdk.brain_observatory.ecephys.behavior_ecephys_session import BehaviorEcephysSession\n",
    "\n",
    "\n",
    "from allensdk.brain_observatory.behavior.behavior_project_cache import (\n",
    "    VisualBehaviorNeuropixelsProjectCache,\n",
    ")\n",
    "import brain_observatory_utilities.datasets.behavior.data_formatting as behavior_utils\n",
    "\n",
    "import pandas as pd\n",
    "import numpy as np\n",
    "\n",
    "import matplotlib.pyplot as plt\n",
    "import matplotlib.cm as cm\n",
    "import seaborn as sns\n",
    "\n",
    "from hmmlearn import hmm, vhmm\n",
    "from sklearn.decomposition import PCA, KernelPCA, FactorAnalysis\n",
    "from sklearn.preprocessing import StandardScaler\n",
    "\n",
    "import utils\n",
    "\n",
    "import warnings\n",
    "warnings.filterwarnings(\"ignore\")\n",
    "\n",
    "# Random seed\n",
    "SEED = 42\n",
    "\n",
    "%matplotlib inline"
   ]
  },
  {
   "cell_type": "code",
   "execution_count": 2,
   "id": "143a2a8b-d350-4eb8-beea-fe3cf97459f7",
   "metadata": {
    "tags": []
   },
   "outputs": [],
   "source": [
    "cache_dir = utils.get_data_root()\n",
    "cache = VisualBehaviorNeuropixelsProjectCache.from_local_cache(\n",
    "    cache_dir=cache_dir, use_static_cache=True\n",
    ")"
   ]
  },
  {
   "cell_type": "code",
   "execution_count": 3,
   "id": "2dd3a584-1b71-4ac4-92e0-fc20ba329280",
   "metadata": {
    "tags": []
   },
   "outputs": [],
   "source": [
    "ephys_table = cache.get_ecephys_session_table()\n",
    "ephys_table = ephys_table.loc[(~ephys_table[\"behavior_session_id\"].isna()) & \n",
    "                              (ephys_table[\"experience_level\"] == \"Familiar\")\n",
    "                             ]"
   ]
  },
  {
   "cell_type": "code",
   "execution_count": 4,
   "id": "4858a503-cfa8-4475-9c07-fe7d337400d1",
   "metadata": {
    "tags": []
   },
   "outputs": [],
   "source": [
    "# session_id = 1124507277\n",
    "# session_id = 1069461581\n",
    "# session = cache.get_ecephys_session(session_id)\n",
    "session_ids = np.random.choice(ephys_table.index, 20)"
   ]
  },
  {
   "cell_type": "markdown",
   "id": "634f3ace-1518-4f78-adaa-2182655248e7",
   "metadata": {
    "tags": []
   },
   "source": [
    "# Defining Behavioral Metrics"
   ]
  },
  {
   "cell_type": "code",
   "execution_count": 5,
   "id": "0fd6d27f-fc2a-44f6-92e5-bcc9653cd9a9",
   "metadata": {
    "tags": []
   },
   "outputs": [],
   "source": [
    "def align_to_stimulus(df: pd.DataFrame, session: BehaviorEcephysSession, active: bool = True) -> pd.DataFrame:\n",
    "    if \"timestamps\" not in df.columns:\n",
    "        raise ValueError(\"column timestamps must be present in df.\")\n",
    "    \n",
    "    stim_presentations = session.stimulus_presentations\n",
    "    if active:\n",
    "        stim_presentations = stim_presentations.loc[stim_presentations[\"active\"]]\n",
    "    \n",
    "    df = df.loc[(stim_presentations[\"start_time\"].min() <= df[\"timestamps\"]) \n",
    "                & (df[\"timestamps\"] <= stim_presentations[\"end_time\"].max())]\n",
    "    bins = pd.concat([pd.Series([0]), stim_presentations[\"end_time\"]])\n",
    "    labels = stim_presentations.index\n",
    "    stimulus_id_aligned = pd.cut(df[\"timestamps\"], bins=bins, labels=labels, include_lowest=True, right=False)\n",
    "    df = pd.concat([pd.Series(stimulus_id_aligned, name=\"stimulus_id\"), df], axis=1)\n",
    "    return df"
   ]
  },
  {
   "cell_type": "code",
   "execution_count": 6,
   "id": "a4f5e3a7-a368-4f74-9f84-73c7ae945cef",
   "metadata": {
    "tags": []
   },
   "outputs": [],
   "source": [
    "def get_behavior_metrics(\n",
    "    session: BehaviorEcephysSession, \n",
    "    center: bool = True,\n",
    ") -> pd.DataFrame:\n",
    "    eye = session.eye_tracking\n",
    "    eye = eye.loc[(eye[\"likely_blink\"] != True)]\n",
    "    eye_metrics = eye[[\"timestamps\", \"pupil_area\"]]\n",
    "    eye_metrics = align_to_stimulus(eye_metrics, session)\n",
    "    \n",
    "    running_metrics = session.running_speed\n",
    "    running_metrics = align_to_stimulus(running_metrics, session)\n",
    "\n",
    "\n",
    "    rewards = (rewards := session.rewards).loc[~rewards[\"auto_rewarded\"]]\n",
    "    rewards_metric = align_to_stimulus(rewards, session)[[\"stimulus_id\", \"timestamps\", \"volume\"]]\n",
    "    rewards_metric[\"volume\"] = rewards_metric[\"volume\"].cumsum()\n",
    "    \n",
    "    metrics = (\n",
    "        eye_metrics.\n",
    "        merge(running_metrics, on=\"stimulus_id\").\n",
    "        groupby(\"stimulus_id\").\n",
    "        aggregate({\"pupil_area\": \"mean\", \"speed\": \"mean\"})\n",
    "    )\n",
    "\n",
    "    rolling_perf = session.get_rolling_performance_df()[[\"hit_rate\"]]\n",
    "    stimulus_presentations = session.stimulus_presentations\n",
    "    metrics = (\n",
    "        metrics.merge(stimulus_presentations[\"trials_id\"], left_on=\"stimulus_id\", right_index=True)\n",
    "        .merge(rolling_perf, left_on=\"trials_id\", right_index=True)\n",
    "        .merge(rewards_metric[[\"stimulus_id\", \"volume\"]], on=\"stimulus_id\", how=\"left\")\n",
    "        .drop(columns=[\"trials_id\", \"stimulus_id\"])\n",
    "    )\n",
    "    # Assign stimulus presentations that weren't rewarded to make volume a step function\n",
    "    csum = metrics[\"volume\"].notnull().cumsum()\n",
    "    metrics[\"volume\"] = metrics[\"volume\"].fillna(0).groupby(csum).transform('sum')\n",
    "    metrics = metrics.loc[(metrics.isna().sum(axis=1) == 0)]\n",
    "    if center:\n",
    "        metrics[[\"pupil_area\", \"speed\"]] -= metrics[[\"pupil_area\", \"speed\"]].mean(axis=0)\n",
    "        metrics = metrics.loc[(metrics[\"pupil_area\"] <= 3500)]\n",
    "    \n",
    "    metrics = metrics.loc[:, ~metrics.columns.str.startswith(\"timestamps\")]\n",
    "    return metrics"
   ]
  },
  {
   "cell_type": "code",
   "execution_count": null,
   "id": "0486b482-4bd9-49fd-8c73-a9b8196bd0a4",
   "metadata": {
    "tags": []
   },
   "outputs": [],
   "source": [
    "%%time\n",
    "parallel = False\n",
    "if parallel:\n",
    "    metrics = utils.parallel_session_map(get_behavior_metrics, session_ids, \"ephys\")\n",
    "    metrics = [session[1] for session in metrics[\"sessions\"]]\n",
    "else:\n",
    "    sessions = [cache.get_ecephys_session(session_id) for session_id in session_ids]\n",
    "    metrics = [get_behavior_metrics(session, center=True) for session in sessions]"
   ]
  },
  {
   "cell_type": "markdown",
   "id": "6ec2bdbf-b9b7-4d61-b932-45f9e2d01a3b",
   "metadata": {},
   "source": [
    "# HMM Model Fitting and Plotting"
   ]
  },
  {
   "cell_type": "code",
   "execution_count": null,
   "id": "a981f841-f31c-4e9c-b071-9274799d1529",
   "metadata": {
    "tags": []
   },
   "outputs": [],
   "source": [
    "X = pd.concat(metrics)\n",
    "X_lens = [len(x) for x in metrics]"
   ]
  },
  {
   "cell_type": "code",
   "execution_count": null,
   "id": "11f72d47-e936-4800-be63-cc45f8a5900e",
   "metadata": {
    "tags": []
   },
   "outputs": [],
   "source": [
    "def full_session_time(metric_df: pd.DataFrame) -> pd.DataFrame:\n",
    "    t_steps = np.arange(metric_df.index.max() + 1)\n",
    "    full_session = pd.DataFrame(index=t_steps, columns=metric_df.columns)\n",
    "    full_session.loc[metric_df.index] = metric_df\n",
    "    return full_session"
   ]
  },
  {
   "cell_type": "code",
   "execution_count": null,
   "id": "bcdf5c62-20ba-48f9-8c51-5e8454d1af4d",
   "metadata": {
    "tags": []
   },
   "outputs": [],
   "source": [
    "startprob = np.array([.5, 0.5])\n",
    "transmat = np.array([[0.99, 0.01],\n",
    "                     [0.01, 0.99]\n",
    "                    ])\n",
    "model_2 = hmm.GaussianHMM(\n",
    "    n_components=2, \n",
    "    n_iter=100000, \n",
    "    random_state=SEED, \n",
    "    init_params=\"m\", \n",
    "    covariance_type=\"full\", \n",
    "    startprob_prior=startprob,\n",
    "    transmat_prior=transmat,\n",
    "    covars_prior=X.cov().values,\n",
    "    algorithm=\"map\",\n",
    "    implementation=\"scaling\"\n",
    ")"
   ]
  },
  {
   "cell_type": "code",
   "execution_count": null,
   "id": "83620740-584e-4a4a-8586-39900e4b7cb3",
   "metadata": {
    "tags": []
   },
   "outputs": [],
   "source": [
    "model_2.fit(X, X_lens);"
   ]
  },
  {
   "cell_type": "code",
   "execution_count": null,
   "id": "d948430c-72fe-4a13-8104-1e4decb92998",
   "metadata": {
    "tags": []
   },
   "outputs": [],
   "source": [
    "metric_idx = 1"
   ]
  },
  {
   "cell_type": "code",
   "execution_count": null,
   "id": "443a0797-c7a0-46cc-a2ea-13c3ea0f4d66",
   "metadata": {
    "tags": []
   },
   "outputs": [],
   "source": [
    "sns.pairplot(metrics[metric_idx], corner=True);"
   ]
  },
  {
   "cell_type": "code",
   "execution_count": null,
   "id": "00afc761-9b69-423b-a510-57cbbffdfb36",
   "metadata": {
    "tags": []
   },
   "outputs": [],
   "source": [
    "m_result = metrics[metric_idx].copy()\n",
    "m_result[\"state_2\"] = model_2.predict(metrics[metric_idx])\n",
    "m_result = full_session_time(m_result)"
   ]
  },
  {
   "cell_type": "code",
   "execution_count": null,
   "id": "9aa140f1-95e9-492c-9a38-4a8ed4ee539d",
   "metadata": {
    "tags": []
   },
   "outputs": [],
   "source": [
    "fig = plt.figure(constrained_layout=True, figsize=(10,6))\n",
    "subfigs = fig.subfigures(nrows=1, ncols=1)\n",
    "state = 2\n",
    "subfigs.suptitle(f\"State transition ({state} states)\")\n",
    "ax = subfigs.subplots()\n",
    "ax.plot(np.arange(m_result.shape[0]),m_result[f\"state_{state}\"])\n",
    "ax.set_yticks(np.arange(state), labels=np.arange(state).astype(str));"
   ]
  },
  {
   "cell_type": "code",
   "execution_count": null,
   "id": "aae5df2c-3319-490c-8f9d-bca23fbe9c1f",
   "metadata": {
    "tags": []
   },
   "outputs": [],
   "source": [
    "fig = plt.figure(constrained_layout=True, figsize=(10,12))\n",
    "subfig = fig.subfigures(nrows=1, ncols=1)\n",
    "state = 2\n",
    "subfig.suptitle(f\"{state} State variable comparisons\")\n",
    "axes = subfig.subplots(4, 1, sharex=True)\n",
    "\n",
    "sns.scatterplot(\n",
    "    m_result,\n",
    "    x=np.arange(m_result.shape[0]),\n",
    "    y=\"pupil_area\",\n",
    "    hue=m_result[f\"state_{state}\"], ax=axes[0])\n",
    "sns.scatterplot(\n",
    "    m_result,\n",
    "    x=np.arange(m_result.shape[0]),\n",
    "    y=\"hit_rate\",\n",
    "    hue=m_result[f\"state_{state}\"], ax=axes[1])\n",
    "sns.scatterplot(\n",
    "    m_result,\n",
    "    x=np.arange(m_result.shape[0]),\n",
    "    y=\"speed\",\n",
    "    hue=m_result[f\"state_{state}\"], ax=axes[2])\n",
    "sns.scatterplot(\n",
    "    m_result,\n",
    "    x=np.arange(m_result.shape[0]),\n",
    "    y=\"volume\",\n",
    "    hue=m_result[f\"state_{state}\"], ax=axes[3]);"
   ]
  },
  {
   "cell_type": "code",
   "execution_count": null,
   "id": "b4d8aa05-a68c-4a9d-906f-68884562d825",
   "metadata": {
    "tags": []
   },
   "outputs": [],
   "source": [
    "sns.pairplot(m_result, corner=True, hue=\"state_2\");"
   ]
  },
  {
   "cell_type": "code",
   "execution_count": null,
   "id": "39cde4f3-f95c-4c2c-b328-9b57d49a246d",
   "metadata": {
    "tags": []
   },
   "outputs": [],
   "source": [
    "fig = plt.figure(constrained_layout=True, figsize=(10,6))\n",
    "subfig = fig.subfigures(nrows=1, ncols=1)\n",
    "state = 2\n",
    "subfig.suptitle(f\"Volume vs Hit Rate ({state} states)\")\n",
    "ax = subfig.subplots()\n",
    "sns.scatterplot(m_result, x=\"volume\", y=\"hit_rate\", hue=m_result[f\"state_{state}\"], ax=ax);"
   ]
  },
  {
   "cell_type": "code",
   "execution_count": null,
   "id": "88f70cb0-ecba-4739-9f3a-01508690d06a",
   "metadata": {
    "tags": []
   },
   "outputs": [],
   "source": [
    "pca = PCA(n_components=3)\n",
    "pca_m = m_result.loc[m_result.isna().sum(axis=1) == 0]\n",
    "embeddings = pca.fit_transform(pca_m.drop(columns=[\"state_2\", \"volume\"]))\n",
    "\n",
    "fig = plt.figure(constrained_layout=True, figsize=(10,6))\n",
    "subfig = fig.subfigures(nrows=1, ncols=1)\n",
    "axes = subfig.subplots(2, 1)\n",
    "\n",
    "axes[0].scatter(embeddings[:, 0], embeddings[:, 2], alpha=0.2, c=pca_m.index, cmap=\"viridis\")\n",
    "axes[0].set_title(\"PCA projection colored by time\")\n",
    "\n",
    "axes[1].scatter(embeddings[:, 0], embeddings[:, 2], c=pca_m[\"state_2\"], alpha=0.2)\n",
    "axes[1].set_title(\"PCA projection colored by state\");\n",
    "\n",
    "axes[0].set_xlim(axes[1].get_xlim())\n",
    "axes[0].set_ylim(axes[1].get_ylim());\n"
   ]
  },
  {
   "cell_type": "markdown",
   "id": "a256fdfd-8a34-402c-9830-42c8099d34d7",
   "metadata": {
    "jupyter": {
     "outputs_hidden": true
    }
   },
   "source": [
    "# Getting Ephys Data"
   ]
  },
  {
   "cell_type": "code",
   "execution_count": null,
   "id": "f7d03815-d66e-4d67-bc62-7f1475eb6a22",
   "metadata": {
    "tags": []
   },
   "outputs": [],
   "source": [
    "unit_table = cache.get_unit_table()"
   ]
  },
  {
   "cell_type": "code",
   "execution_count": null,
   "id": "e0e62c14-2f28-4403-bcf6-7c62520c2203",
   "metadata": {
    "tags": []
   },
   "outputs": [],
   "source": [
    "session = cache.get_ecephys_session(session_ids[metric_idx])"
   ]
  },
  {
   "cell_type": "code",
   "execution_count": null,
   "id": "c9a14003-74b4-4970-8c18-4f0429de93d5",
   "metadata": {
    "tags": []
   },
   "outputs": [],
   "source": [
    "def get_spike_rates(session: BehaviorEcephysSession) -> tuple[np.array, pd.DataFrame]:\n",
    "    \"\"\"Get spike rates over stimulus presentations for a session\n",
    "    \n",
    "    Parameters\n",
    "    ----------\n",
    "    session\n",
    "        The ecephys session to get spike rates for.\n",
    "    \n",
    "    Returns\n",
    "    -------\n",
    "    rates\n",
    "        (n_units x n_stimuli) array of spiking rates.\n",
    "    rates_df\n",
    "        The ``rates`` array as a dataframe with an extra column\n",
    "        indicating the region the unit is in.\n",
    "    \"\"\"\n",
    "    \n",
    "    spikes = session.spike_times\n",
    "    units = session.get_units().join(unit_table[\"structure_acronym\"])\n",
    "    stimuli = session.stimulus_presentations\n",
    "    stimuli = stimuli.loc[(stimuli[\"active\"])]\n",
    "    units = units[(units.isi_violations < 0.5) \n",
    "                    & (units.amplitude_cutoff < 0.1) \n",
    "                     & (units.presence_ratio > 0.9)\n",
    "                ]\n",
    "    rates = np.zeros((units.shape[0], stimuli.shape[0]))\n",
    "    for i, unit_id in enumerate(units.index):\n",
    "        unit_data = pd.DataFrame({\"timestamps\": spikes[unit_id], \"spikes\": np.ones(len(spikes[unit_id]))})\n",
    "        counts = align_to_stimulus(unit_data, session).groupby(\"stimulus_id\").sum()[\"spikes\"]\n",
    "        lengths = stimuli.end_time - stimuli.start_time\n",
    "        rate = counts/lengths\n",
    "        rates[i] = rate\n",
    "\n",
    "    columns = [f\"t_{timestep}\" for timestep in stimuli.index]\n",
    "    rates_df = pd.DataFrame(rates, index=units.index, columns=columns)\n",
    "    rates_df = rates_df.join(units[\"structure_acronym\"])\n",
    "    \n",
    "    return rates, rates_df"
   ]
  },
  {
   "cell_type": "code",
   "execution_count": null,
   "id": "aa70e8de-9a36-4f80-bbcb-b689fd6b9382",
   "metadata": {
    "tags": []
   },
   "outputs": [],
   "source": [
    "def plot_areas(\n",
    "    session_rates: pd.DataFrame, \n",
    "    behavior_metric: np.array, \n",
    "    areas: Union[str, list[str]] = None, \n",
    "):\n",
    "    \"\"\"\n",
    "    Plot the mean activity of a brain region along with individual unit activity along with\n",
    "    behavioral state.\n",
    "    \n",
    "    If no areas are provided, all areas will be plotted.\n",
    "    \n",
    "    Parameters\n",
    "    ----------\n",
    "    session_rates\n",
    "        The firing rates to plot.\n",
    "    behavior_metric\n",
    "        The behavior metric vector to plot.\n",
    "    areas\n",
    "        Single or list of brain regions to plot.\n",
    "        Default behavior is to plot all regions\n",
    "    \n",
    "    Returns\n",
    "    -------\n",
    "    fig, ax\n",
    "        Matplotlib plot\n",
    "    \"\"\"\n",
    "    if areas is None:\n",
    "        areas = session_rates[\"structure_acronym\"].unique()\n",
    "    elif isinstance(areas, str):\n",
    "        areas = [areas]\n",
    "    \n",
    "    \n",
    "    fig, axes = plt.subplots(len(areas), 2, figsize=(10, 4 * len(areas)));   \n",
    "    axes = np.expand_dims(axes, 0) if len(areas) == 1 else axes\n",
    "    \n",
    "    session_rates_t = session_rates.iloc[:, :-1].T\n",
    "    \n",
    "    behavior_metric /= behavior_metric.max()\n",
    "    behavior_state = np.empty(session_rates_t.shape[0])\n",
    "    behavior_state[:] = np.nan\n",
    "    behavior_state[behavior_metric.index] = behavior_metric\n",
    "    \n",
    "    \n",
    "    for i, area in enumerate(areas):\n",
    "        area_activity_idx = session_rates.loc[session_rates[\"structure_acronym\"] == area].index\n",
    "        (area_rates := session_rates_t.loc[:, area_activity_idx]).mean(axis=1).plot(ax=axes[i,0]);\n",
    "        \n",
    "    \n",
    "        axes[i, 0].set_title(f\"(mean) activity for {area}\");\n",
    "        axes[i, 0].plot(behavior_state * area_rates.to_numpy().mean(axis=(0,1)) , linewidth=3);\n",
    "        axes[i, 0].set_ylabel(\"Firing rate (over stimulus presentation\")\n",
    "        \n",
    "        area_rates.plot(ax=axes[i,1], alpha=0.4);\n",
    "        axes[i, 1].plot(behavior_state * area_rates.to_numpy().max(axis=(0,1))/5, color=\"orange\", linewidth=3);\n",
    "        axes[i, 1].set_title(f\"activity for {area}\");\n",
    "        axes[i, 1].legend().remove();\n",
    "        \n",
    "    fig.tight_layout();\n",
    "    return fig, axes"
   ]
  },
  {
   "cell_type": "markdown",
   "id": "c74fe439-0fbb-4f9d-a7d2-3f23ea11b208",
   "metadata": {},
   "source": [
    "# Plotting data"
   ]
  },
  {
   "cell_type": "code",
   "execution_count": null,
   "id": "707e93d2-ef1c-414c-9174-c6ade91909da",
   "metadata": {
    "tags": []
   },
   "outputs": [],
   "source": [
    "rates, rates_df = get_spike_rates(session)"
   ]
  },
  {
   "cell_type": "code",
   "execution_count": null,
   "id": "8e0fce6a-c71c-4a7b-812a-2ba272026514",
   "metadata": {
    "tags": []
   },
   "outputs": [],
   "source": [
    "plot_areas(rates_df, m_result[\"state_2\"]);"
   ]
  },
  {
   "cell_type": "code",
   "execution_count": null,
   "id": "add8b60d-8e68-489b-844c-1193467d68ae",
   "metadata": {
    "tags": []
   },
   "outputs": [],
   "source": [
    "def plot_area_units(\n",
    "    session_rates: pd.DataFrame, \n",
    "    behavior_metric: np.array, \n",
    "    area: str, \n",
    ") -> None:\n",
    "    \"\"\"\n",
    "    Plot the individual unit activity for a single brain region.\n",
    "        \n",
    "    Parameters\n",
    "    ----------\n",
    "    session_rates\n",
    "        The firing rates to plot.\n",
    "    behavior_state\n",
    "        The behavior metric vector to plot.\n",
    "    area\n",
    "        Region to plot units for.\n",
    "    \n",
    "    Returns\n",
    "    -------\n",
    "    fig, ax\n",
    "        Matplotlib plot\n",
    "    \"\"\"\n",
    "    \n",
    "    area_rates = session_rates.loc[session_rates[\"structure_acronym\"] == area]\n",
    "    \n",
    "    area_rates_t = area_rates.iloc[:, :-1].T\n",
    "    \n",
    "    behavior_metric /= behavior_metric.max()\n",
    "    behavior_state = np.empty(area_rates_t.shape[0])\n",
    "    behavior_state[:] = np.nan\n",
    "    behavior_state[behavior_metric.index] = behavior_metric\n",
    "    \n",
    "    fig, axes = plt.subplots((n_units := area_rates_t.shape[1]), 1, figsize=(8, 6 * n_units), sharex=True);\n",
    "    axes = np.reshape(axes, -1) if n_units == 1 else axes\n",
    "    for i, ax in enumerate(axes):\n",
    "        area_rates_t.iloc[:, i].plot(ax=ax)\n",
    "        ax.plot(behavior_state * area_rates_t.iloc[:, i].to_numpy().max(axis=(0))/5, color=\"orange\", linewidth=3);\n",
    "        ax.set_title(f\"activity for {area_rates_t.columns[i]}\");\n",
    "        ax.set_ylabel(\"Firing rate (over stimulus presentation\")\n",
    "\n",
    "    return fig, axes"
   ]
  },
  {
   "cell_type": "code",
   "execution_count": 73,
   "id": "e8d3fae0-f251-4e85-af73-d902dd4d49f3",
   "metadata": {
    "tags": []
   },
   "outputs": [
    {
     "ename": "ValueError",
     "evalue": "Number of rows must be a positive integer, not 0",
     "output_type": "error",
     "traceback": [
      "\u001b[0;31m---------------------------------------------------------------------------\u001b[0m",
      "\u001b[0;31mValueError\u001b[0m                                Traceback (most recent call last)",
      "Cell \u001b[0;32mIn[73], line 1\u001b[0m\n\u001b[0;32m----> 1\u001b[0m \u001b[43mplot_area_units\u001b[49m\u001b[43m(\u001b[49m\u001b[43mrates_df\u001b[49m\u001b[43m,\u001b[49m\u001b[43m \u001b[49m\u001b[43mm_result\u001b[49m\u001b[43m[\u001b[49m\u001b[38;5;124;43m\"\u001b[39;49m\u001b[38;5;124;43mstate_2\u001b[39;49m\u001b[38;5;124;43m\"\u001b[39;49m\u001b[43m]\u001b[49m\u001b[43m,\u001b[49m\u001b[43m \u001b[49m\u001b[38;5;124;43m\"\u001b[39;49m\u001b[38;5;124;43mTH\u001b[39;49m\u001b[38;5;124;43m\"\u001b[39;49m\u001b[43m)\u001b[49m;\n",
      "Cell \u001b[0;32mIn[72], line 33\u001b[0m, in \u001b[0;36mplot_area_units\u001b[0;34m(session_rates, behavior_metric, area)\u001b[0m\n\u001b[1;32m     30\u001b[0m behavior_state[:] \u001b[38;5;241m=\u001b[39m np\u001b[38;5;241m.\u001b[39mnan\n\u001b[1;32m     31\u001b[0m behavior_state[behavior_metric\u001b[38;5;241m.\u001b[39mindex] \u001b[38;5;241m=\u001b[39m behavior_metric\n\u001b[0;32m---> 33\u001b[0m fig, axes \u001b[38;5;241m=\u001b[39m \u001b[43mplt\u001b[49m\u001b[38;5;241;43m.\u001b[39;49m\u001b[43msubplots\u001b[49m\u001b[43m(\u001b[49m\u001b[43m(\u001b[49m\u001b[43mn_units\u001b[49m\u001b[43m \u001b[49m\u001b[38;5;241;43m:=\u001b[39;49m\u001b[43m \u001b[49m\u001b[43marea_rates_t\u001b[49m\u001b[38;5;241;43m.\u001b[39;49m\u001b[43mshape\u001b[49m\u001b[43m[\u001b[49m\u001b[38;5;241;43m1\u001b[39;49m\u001b[43m]\u001b[49m\u001b[43m)\u001b[49m\u001b[43m,\u001b[49m\u001b[43m \u001b[49m\u001b[38;5;241;43m1\u001b[39;49m\u001b[43m,\u001b[49m\u001b[43m \u001b[49m\u001b[43mfigsize\u001b[49m\u001b[38;5;241;43m=\u001b[39;49m\u001b[43m(\u001b[49m\u001b[38;5;241;43m16\u001b[39;49m\u001b[43m,\u001b[49m\u001b[43m \u001b[49m\u001b[38;5;241;43m6\u001b[39;49m\u001b[43m \u001b[49m\u001b[38;5;241;43m*\u001b[39;49m\u001b[43m \u001b[49m\u001b[43mn_units\u001b[49m\u001b[43m)\u001b[49m\u001b[43m,\u001b[49m\u001b[43m \u001b[49m\u001b[43msharex\u001b[49m\u001b[38;5;241;43m=\u001b[39;49m\u001b[38;5;28;43;01mTrue\u001b[39;49;00m\u001b[43m)\u001b[49m;\n\u001b[1;32m     34\u001b[0m axes \u001b[38;5;241m=\u001b[39m np\u001b[38;5;241m.\u001b[39mreshape(axes, \u001b[38;5;241m-\u001b[39m\u001b[38;5;241m1\u001b[39m) \u001b[38;5;28;01mif\u001b[39;00m n_units \u001b[38;5;241m==\u001b[39m \u001b[38;5;241m1\u001b[39m \u001b[38;5;28;01melse\u001b[39;00m axes\n\u001b[1;32m     35\u001b[0m \u001b[38;5;28;01mfor\u001b[39;00m i, ax \u001b[38;5;129;01min\u001b[39;00m \u001b[38;5;28menumerate\u001b[39m(axes):\n",
      "File \u001b[0;32m/opt/conda/lib/python3.9/site-packages/matplotlib/pyplot.py:1614\u001b[0m, in \u001b[0;36msubplots\u001b[0;34m(nrows, ncols, sharex, sharey, squeeze, width_ratios, height_ratios, subplot_kw, gridspec_kw, **fig_kw)\u001b[0m\n\u001b[1;32m   1470\u001b[0m \u001b[38;5;250m\u001b[39m\u001b[38;5;124;03m\"\"\"\u001b[39;00m\n\u001b[1;32m   1471\u001b[0m \u001b[38;5;124;03mCreate a figure and a set of subplots.\u001b[39;00m\n\u001b[1;32m   1472\u001b[0m \n\u001b[0;32m   (...)\u001b[0m\n\u001b[1;32m   1611\u001b[0m \n\u001b[1;32m   1612\u001b[0m \u001b[38;5;124;03m\"\"\"\u001b[39;00m\n\u001b[1;32m   1613\u001b[0m fig \u001b[38;5;241m=\u001b[39m figure(\u001b[38;5;241m*\u001b[39m\u001b[38;5;241m*\u001b[39mfig_kw)\n\u001b[0;32m-> 1614\u001b[0m axs \u001b[38;5;241m=\u001b[39m \u001b[43mfig\u001b[49m\u001b[38;5;241;43m.\u001b[39;49m\u001b[43msubplots\u001b[49m\u001b[43m(\u001b[49m\u001b[43mnrows\u001b[49m\u001b[38;5;241;43m=\u001b[39;49m\u001b[43mnrows\u001b[49m\u001b[43m,\u001b[49m\u001b[43m \u001b[49m\u001b[43mncols\u001b[49m\u001b[38;5;241;43m=\u001b[39;49m\u001b[43mncols\u001b[49m\u001b[43m,\u001b[49m\u001b[43m \u001b[49m\u001b[43msharex\u001b[49m\u001b[38;5;241;43m=\u001b[39;49m\u001b[43msharex\u001b[49m\u001b[43m,\u001b[49m\u001b[43m \u001b[49m\u001b[43msharey\u001b[49m\u001b[38;5;241;43m=\u001b[39;49m\u001b[43msharey\u001b[49m\u001b[43m,\u001b[49m\n\u001b[1;32m   1615\u001b[0m \u001b[43m                   \u001b[49m\u001b[43msqueeze\u001b[49m\u001b[38;5;241;43m=\u001b[39;49m\u001b[43msqueeze\u001b[49m\u001b[43m,\u001b[49m\u001b[43m \u001b[49m\u001b[43msubplot_kw\u001b[49m\u001b[38;5;241;43m=\u001b[39;49m\u001b[43msubplot_kw\u001b[49m\u001b[43m,\u001b[49m\n\u001b[1;32m   1616\u001b[0m \u001b[43m                   \u001b[49m\u001b[43mgridspec_kw\u001b[49m\u001b[38;5;241;43m=\u001b[39;49m\u001b[43mgridspec_kw\u001b[49m\u001b[43m,\u001b[49m\u001b[43m \u001b[49m\u001b[43mheight_ratios\u001b[49m\u001b[38;5;241;43m=\u001b[39;49m\u001b[43mheight_ratios\u001b[49m\u001b[43m,\u001b[49m\n\u001b[1;32m   1617\u001b[0m \u001b[43m                   \u001b[49m\u001b[43mwidth_ratios\u001b[49m\u001b[38;5;241;43m=\u001b[39;49m\u001b[43mwidth_ratios\u001b[49m\u001b[43m)\u001b[49m\n\u001b[1;32m   1618\u001b[0m \u001b[38;5;28;01mreturn\u001b[39;00m fig, axs\n",
      "File \u001b[0;32m/opt/conda/lib/python3.9/site-packages/matplotlib/figure.py:930\u001b[0m, in \u001b[0;36mFigureBase.subplots\u001b[0;34m(self, nrows, ncols, sharex, sharey, squeeze, width_ratios, height_ratios, subplot_kw, gridspec_kw)\u001b[0m\n\u001b[1;32m    926\u001b[0m         \u001b[38;5;28;01mraise\u001b[39;00m \u001b[38;5;167;01mValueError\u001b[39;00m(\u001b[38;5;124m\"\u001b[39m\u001b[38;5;124m'\u001b[39m\u001b[38;5;124mwidth_ratios\u001b[39m\u001b[38;5;124m'\u001b[39m\u001b[38;5;124m must not be defined both as \u001b[39m\u001b[38;5;124m\"\u001b[39m\n\u001b[1;32m    927\u001b[0m                          \u001b[38;5;124m\"\u001b[39m\u001b[38;5;124mparameter and as key in \u001b[39m\u001b[38;5;124m'\u001b[39m\u001b[38;5;124mgridspec_kw\u001b[39m\u001b[38;5;124m'\u001b[39m\u001b[38;5;124m\"\u001b[39m)\n\u001b[1;32m    928\u001b[0m     gridspec_kw[\u001b[38;5;124m'\u001b[39m\u001b[38;5;124mwidth_ratios\u001b[39m\u001b[38;5;124m'\u001b[39m] \u001b[38;5;241m=\u001b[39m width_ratios\n\u001b[0;32m--> 930\u001b[0m gs \u001b[38;5;241m=\u001b[39m \u001b[38;5;28;43mself\u001b[39;49m\u001b[38;5;241;43m.\u001b[39;49m\u001b[43madd_gridspec\u001b[49m\u001b[43m(\u001b[49m\u001b[43mnrows\u001b[49m\u001b[43m,\u001b[49m\u001b[43m \u001b[49m\u001b[43mncols\u001b[49m\u001b[43m,\u001b[49m\u001b[43m \u001b[49m\u001b[43mfigure\u001b[49m\u001b[38;5;241;43m=\u001b[39;49m\u001b[38;5;28;43mself\u001b[39;49m\u001b[43m,\u001b[49m\u001b[43m \u001b[49m\u001b[38;5;241;43m*\u001b[39;49m\u001b[38;5;241;43m*\u001b[39;49m\u001b[43mgridspec_kw\u001b[49m\u001b[43m)\u001b[49m\n\u001b[1;32m    931\u001b[0m axs \u001b[38;5;241m=\u001b[39m gs\u001b[38;5;241m.\u001b[39msubplots(sharex\u001b[38;5;241m=\u001b[39msharex, sharey\u001b[38;5;241m=\u001b[39msharey, squeeze\u001b[38;5;241m=\u001b[39msqueeze,\n\u001b[1;32m    932\u001b[0m                   subplot_kw\u001b[38;5;241m=\u001b[39msubplot_kw)\n\u001b[1;32m    933\u001b[0m \u001b[38;5;28;01mreturn\u001b[39;00m axs\n",
      "File \u001b[0;32m/opt/conda/lib/python3.9/site-packages/matplotlib/figure.py:1542\u001b[0m, in \u001b[0;36mFigureBase.add_gridspec\u001b[0;34m(self, nrows, ncols, **kwargs)\u001b[0m\n\u001b[1;32m   1503\u001b[0m \u001b[38;5;250m\u001b[39m\u001b[38;5;124;03m\"\"\"\u001b[39;00m\n\u001b[1;32m   1504\u001b[0m \u001b[38;5;124;03mReturn a `.GridSpec` that has this figure as a parent.  This allows\u001b[39;00m\n\u001b[1;32m   1505\u001b[0m \u001b[38;5;124;03mcomplex layout of Axes in the figure.\u001b[39;00m\n\u001b[0;32m   (...)\u001b[0m\n\u001b[1;32m   1538\u001b[0m \n\u001b[1;32m   1539\u001b[0m \u001b[38;5;124;03m\"\"\"\u001b[39;00m\n\u001b[1;32m   1541\u001b[0m _ \u001b[38;5;241m=\u001b[39m kwargs\u001b[38;5;241m.\u001b[39mpop(\u001b[38;5;124m'\u001b[39m\u001b[38;5;124mfigure\u001b[39m\u001b[38;5;124m'\u001b[39m, \u001b[38;5;28;01mNone\u001b[39;00m)  \u001b[38;5;66;03m# pop in case user has added this...\u001b[39;00m\n\u001b[0;32m-> 1542\u001b[0m gs \u001b[38;5;241m=\u001b[39m \u001b[43mGridSpec\u001b[49m\u001b[43m(\u001b[49m\u001b[43mnrows\u001b[49m\u001b[38;5;241;43m=\u001b[39;49m\u001b[43mnrows\u001b[49m\u001b[43m,\u001b[49m\u001b[43m \u001b[49m\u001b[43mncols\u001b[49m\u001b[38;5;241;43m=\u001b[39;49m\u001b[43mncols\u001b[49m\u001b[43m,\u001b[49m\u001b[43m \u001b[49m\u001b[43mfigure\u001b[49m\u001b[38;5;241;43m=\u001b[39;49m\u001b[38;5;28;43mself\u001b[39;49m\u001b[43m,\u001b[49m\u001b[43m \u001b[49m\u001b[38;5;241;43m*\u001b[39;49m\u001b[38;5;241;43m*\u001b[39;49m\u001b[43mkwargs\u001b[49m\u001b[43m)\u001b[49m\n\u001b[1;32m   1543\u001b[0m \u001b[38;5;28;01mreturn\u001b[39;00m gs\n",
      "File \u001b[0;32m/opt/conda/lib/python3.9/site-packages/matplotlib/gridspec.py:378\u001b[0m, in \u001b[0;36mGridSpec.__init__\u001b[0;34m(self, nrows, ncols, figure, left, bottom, right, top, wspace, hspace, width_ratios, height_ratios)\u001b[0m\n\u001b[1;32m    375\u001b[0m \u001b[38;5;28mself\u001b[39m\u001b[38;5;241m.\u001b[39mhspace \u001b[38;5;241m=\u001b[39m hspace\n\u001b[1;32m    376\u001b[0m \u001b[38;5;28mself\u001b[39m\u001b[38;5;241m.\u001b[39mfigure \u001b[38;5;241m=\u001b[39m figure\n\u001b[0;32m--> 378\u001b[0m \u001b[38;5;28;43msuper\u001b[39;49m\u001b[43m(\u001b[49m\u001b[43m)\u001b[49m\u001b[38;5;241;43m.\u001b[39;49m\u001b[38;5;21;43m__init__\u001b[39;49m\u001b[43m(\u001b[49m\u001b[43mnrows\u001b[49m\u001b[43m,\u001b[49m\u001b[43m \u001b[49m\u001b[43mncols\u001b[49m\u001b[43m,\u001b[49m\n\u001b[1;32m    379\u001b[0m \u001b[43m                 \u001b[49m\u001b[43mwidth_ratios\u001b[49m\u001b[38;5;241;43m=\u001b[39;49m\u001b[43mwidth_ratios\u001b[49m\u001b[43m,\u001b[49m\n\u001b[1;32m    380\u001b[0m \u001b[43m                 \u001b[49m\u001b[43mheight_ratios\u001b[49m\u001b[38;5;241;43m=\u001b[39;49m\u001b[43mheight_ratios\u001b[49m\u001b[43m)\u001b[49m\n",
      "File \u001b[0;32m/opt/conda/lib/python3.9/site-packages/matplotlib/gridspec.py:48\u001b[0m, in \u001b[0;36mGridSpecBase.__init__\u001b[0;34m(self, nrows, ncols, height_ratios, width_ratios)\u001b[0m\n\u001b[1;32m     33\u001b[0m \u001b[38;5;250m\u001b[39m\u001b[38;5;124;03m\"\"\"\u001b[39;00m\n\u001b[1;32m     34\u001b[0m \u001b[38;5;124;03mParameters\u001b[39;00m\n\u001b[1;32m     35\u001b[0m \u001b[38;5;124;03m----------\u001b[39;00m\n\u001b[0;32m   (...)\u001b[0m\n\u001b[1;32m     45\u001b[0m \u001b[38;5;124;03m    If not given, all rows will have the same height.\u001b[39;00m\n\u001b[1;32m     46\u001b[0m \u001b[38;5;124;03m\"\"\"\u001b[39;00m\n\u001b[1;32m     47\u001b[0m \u001b[38;5;28;01mif\u001b[39;00m \u001b[38;5;129;01mnot\u001b[39;00m \u001b[38;5;28misinstance\u001b[39m(nrows, Integral) \u001b[38;5;129;01mor\u001b[39;00m nrows \u001b[38;5;241m<\u001b[39m\u001b[38;5;241m=\u001b[39m \u001b[38;5;241m0\u001b[39m:\n\u001b[0;32m---> 48\u001b[0m     \u001b[38;5;28;01mraise\u001b[39;00m \u001b[38;5;167;01mValueError\u001b[39;00m(\n\u001b[1;32m     49\u001b[0m         \u001b[38;5;124mf\u001b[39m\u001b[38;5;124m\"\u001b[39m\u001b[38;5;124mNumber of rows must be a positive integer, not \u001b[39m\u001b[38;5;132;01m{\u001b[39;00mnrows\u001b[38;5;132;01m!r}\u001b[39;00m\u001b[38;5;124m\"\u001b[39m)\n\u001b[1;32m     50\u001b[0m \u001b[38;5;28;01mif\u001b[39;00m \u001b[38;5;129;01mnot\u001b[39;00m \u001b[38;5;28misinstance\u001b[39m(ncols, Integral) \u001b[38;5;129;01mor\u001b[39;00m ncols \u001b[38;5;241m<\u001b[39m\u001b[38;5;241m=\u001b[39m \u001b[38;5;241m0\u001b[39m:\n\u001b[1;32m     51\u001b[0m     \u001b[38;5;28;01mraise\u001b[39;00m \u001b[38;5;167;01mValueError\u001b[39;00m(\n\u001b[1;32m     52\u001b[0m         \u001b[38;5;124mf\u001b[39m\u001b[38;5;124m\"\u001b[39m\u001b[38;5;124mNumber of columns must be a positive integer, not \u001b[39m\u001b[38;5;132;01m{\u001b[39;00mncols\u001b[38;5;132;01m!r}\u001b[39;00m\u001b[38;5;124m\"\u001b[39m)\n",
      "\u001b[0;31mValueError\u001b[0m: Number of rows must be a positive integer, not 0"
     ]
    },
    {
     "ename": "SystemError",
     "evalue": "tile cannot extend outside image",
     "output_type": "error",
     "traceback": [
      "\u001b[0;31m---------------------------------------------------------------------------\u001b[0m",
      "\u001b[0;31mSystemError\u001b[0m                               Traceback (most recent call last)",
      "File \u001b[0;32m/opt/conda/lib/python3.9/site-packages/IPython/core/formatters.py:972\u001b[0m, in \u001b[0;36mMimeBundleFormatter.__call__\u001b[0;34m(self, obj, include, exclude)\u001b[0m\n\u001b[1;32m    969\u001b[0m     method \u001b[38;5;241m=\u001b[39m get_real_method(obj, \u001b[38;5;28mself\u001b[39m\u001b[38;5;241m.\u001b[39mprint_method)\n\u001b[1;32m    971\u001b[0m     \u001b[38;5;28;01mif\u001b[39;00m method \u001b[38;5;129;01mis\u001b[39;00m \u001b[38;5;129;01mnot\u001b[39;00m \u001b[38;5;28;01mNone\u001b[39;00m:\n\u001b[0;32m--> 972\u001b[0m         \u001b[38;5;28;01mreturn\u001b[39;00m \u001b[43mmethod\u001b[49m\u001b[43m(\u001b[49m\u001b[43minclude\u001b[49m\u001b[38;5;241;43m=\u001b[39;49m\u001b[43minclude\u001b[49m\u001b[43m,\u001b[49m\u001b[43m \u001b[49m\u001b[43mexclude\u001b[49m\u001b[38;5;241;43m=\u001b[39;49m\u001b[43mexclude\u001b[49m\u001b[43m)\u001b[49m\n\u001b[1;32m    973\u001b[0m     \u001b[38;5;28;01mreturn\u001b[39;00m \u001b[38;5;28;01mNone\u001b[39;00m\n\u001b[1;32m    974\u001b[0m \u001b[38;5;28;01melse\u001b[39;00m:\n",
      "File \u001b[0;32m/opt/conda/lib/python3.9/site-packages/ipympl/backend_nbagg.py:336\u001b[0m, in \u001b[0;36mCanvas._repr_mimebundle_\u001b[0;34m(self, **kwargs)\u001b[0m\n\u001b[1;32m    333\u001b[0m     plaintext \u001b[38;5;241m=\u001b[39m plaintext[:\u001b[38;5;241m110\u001b[39m] \u001b[38;5;241m+\u001b[39m \u001b[38;5;124m'\u001b[39m\u001b[38;5;124m…\u001b[39m\u001b[38;5;124m'\u001b[39m\n\u001b[1;32m    335\u001b[0m buf \u001b[38;5;241m=\u001b[39m io\u001b[38;5;241m.\u001b[39mBytesIO()\n\u001b[0;32m--> 336\u001b[0m \u001b[38;5;28;43mself\u001b[39;49m\u001b[38;5;241;43m.\u001b[39;49m\u001b[43mfigure\u001b[49m\u001b[38;5;241;43m.\u001b[39;49m\u001b[43msavefig\u001b[49m\u001b[43m(\u001b[49m\u001b[43mbuf\u001b[49m\u001b[43m,\u001b[49m\u001b[43m \u001b[49m\u001b[38;5;28;43mformat\u001b[39;49m\u001b[38;5;241;43m=\u001b[39;49m\u001b[38;5;124;43m'\u001b[39;49m\u001b[38;5;124;43mpng\u001b[39;49m\u001b[38;5;124;43m'\u001b[39;49m\u001b[43m,\u001b[49m\u001b[43m \u001b[49m\u001b[43mdpi\u001b[49m\u001b[38;5;241;43m=\u001b[39;49m\u001b[38;5;124;43m'\u001b[39;49m\u001b[38;5;124;43mfigure\u001b[39;49m\u001b[38;5;124;43m'\u001b[39;49m\u001b[43m)\u001b[49m\n\u001b[1;32m    338\u001b[0m base64_image \u001b[38;5;241m=\u001b[39m b64encode(buf\u001b[38;5;241m.\u001b[39mgetvalue())\u001b[38;5;241m.\u001b[39mdecode(\u001b[38;5;124m'\u001b[39m\u001b[38;5;124mutf-8\u001b[39m\u001b[38;5;124m'\u001b[39m)\n\u001b[1;32m    339\u001b[0m \u001b[38;5;28mself\u001b[39m\u001b[38;5;241m.\u001b[39m_data_url \u001b[38;5;241m=\u001b[39m \u001b[38;5;124mf\u001b[39m\u001b[38;5;124m'\u001b[39m\u001b[38;5;124mdata:image/png;base64,\u001b[39m\u001b[38;5;132;01m{\u001b[39;00mbase64_image\u001b[38;5;132;01m}\u001b[39;00m\u001b[38;5;124m'\u001b[39m\n",
      "File \u001b[0;32m/opt/conda/lib/python3.9/site-packages/matplotlib/figure.py:3390\u001b[0m, in \u001b[0;36mFigure.savefig\u001b[0;34m(self, fname, transparent, **kwargs)\u001b[0m\n\u001b[1;32m   3388\u001b[0m     \u001b[38;5;28;01mfor\u001b[39;00m ax \u001b[38;5;129;01min\u001b[39;00m \u001b[38;5;28mself\u001b[39m\u001b[38;5;241m.\u001b[39maxes:\n\u001b[1;32m   3389\u001b[0m         _recursively_make_axes_transparent(stack, ax)\n\u001b[0;32m-> 3390\u001b[0m \u001b[38;5;28;43mself\u001b[39;49m\u001b[38;5;241;43m.\u001b[39;49m\u001b[43mcanvas\u001b[49m\u001b[38;5;241;43m.\u001b[39;49m\u001b[43mprint_figure\u001b[49m\u001b[43m(\u001b[49m\u001b[43mfname\u001b[49m\u001b[43m,\u001b[49m\u001b[43m \u001b[49m\u001b[38;5;241;43m*\u001b[39;49m\u001b[38;5;241;43m*\u001b[39;49m\u001b[43mkwargs\u001b[49m\u001b[43m)\u001b[49m\n",
      "File \u001b[0;32m/opt/conda/lib/python3.9/site-packages/matplotlib/backend_bases.py:2193\u001b[0m, in \u001b[0;36mFigureCanvasBase.print_figure\u001b[0;34m(self, filename, dpi, facecolor, edgecolor, orientation, format, bbox_inches, pad_inches, bbox_extra_artists, backend, **kwargs)\u001b[0m\n\u001b[1;32m   2189\u001b[0m \u001b[38;5;28;01mtry\u001b[39;00m:\n\u001b[1;32m   2190\u001b[0m     \u001b[38;5;66;03m# _get_renderer may change the figure dpi (as vector formats\u001b[39;00m\n\u001b[1;32m   2191\u001b[0m     \u001b[38;5;66;03m# force the figure dpi to 72), so we need to set it again here.\u001b[39;00m\n\u001b[1;32m   2192\u001b[0m     \u001b[38;5;28;01mwith\u001b[39;00m cbook\u001b[38;5;241m.\u001b[39m_setattr_cm(\u001b[38;5;28mself\u001b[39m\u001b[38;5;241m.\u001b[39mfigure, dpi\u001b[38;5;241m=\u001b[39mdpi):\n\u001b[0;32m-> 2193\u001b[0m         result \u001b[38;5;241m=\u001b[39m \u001b[43mprint_method\u001b[49m\u001b[43m(\u001b[49m\n\u001b[1;32m   2194\u001b[0m \u001b[43m            \u001b[49m\u001b[43mfilename\u001b[49m\u001b[43m,\u001b[49m\n\u001b[1;32m   2195\u001b[0m \u001b[43m            \u001b[49m\u001b[43mfacecolor\u001b[49m\u001b[38;5;241;43m=\u001b[39;49m\u001b[43mfacecolor\u001b[49m\u001b[43m,\u001b[49m\n\u001b[1;32m   2196\u001b[0m \u001b[43m            \u001b[49m\u001b[43medgecolor\u001b[49m\u001b[38;5;241;43m=\u001b[39;49m\u001b[43medgecolor\u001b[49m\u001b[43m,\u001b[49m\n\u001b[1;32m   2197\u001b[0m \u001b[43m            \u001b[49m\u001b[43morientation\u001b[49m\u001b[38;5;241;43m=\u001b[39;49m\u001b[43morientation\u001b[49m\u001b[43m,\u001b[49m\n\u001b[1;32m   2198\u001b[0m \u001b[43m            \u001b[49m\u001b[43mbbox_inches_restore\u001b[49m\u001b[38;5;241;43m=\u001b[39;49m\u001b[43m_bbox_inches_restore\u001b[49m\u001b[43m,\u001b[49m\n\u001b[1;32m   2199\u001b[0m \u001b[43m            \u001b[49m\u001b[38;5;241;43m*\u001b[39;49m\u001b[38;5;241;43m*\u001b[39;49m\u001b[43mkwargs\u001b[49m\u001b[43m)\u001b[49m\n\u001b[1;32m   2200\u001b[0m \u001b[38;5;28;01mfinally\u001b[39;00m:\n\u001b[1;32m   2201\u001b[0m     \u001b[38;5;28;01mif\u001b[39;00m bbox_inches \u001b[38;5;129;01mand\u001b[39;00m restore_bbox:\n",
      "File \u001b[0;32m/opt/conda/lib/python3.9/site-packages/matplotlib/backend_bases.py:2043\u001b[0m, in \u001b[0;36mFigureCanvasBase._switch_canvas_and_return_print_method.<locals>.<lambda>\u001b[0;34m(*args, **kwargs)\u001b[0m\n\u001b[1;32m   2039\u001b[0m     optional_kws \u001b[38;5;241m=\u001b[39m {  \u001b[38;5;66;03m# Passed by print_figure for other renderers.\u001b[39;00m\n\u001b[1;32m   2040\u001b[0m         \u001b[38;5;124m\"\u001b[39m\u001b[38;5;124mdpi\u001b[39m\u001b[38;5;124m\"\u001b[39m, \u001b[38;5;124m\"\u001b[39m\u001b[38;5;124mfacecolor\u001b[39m\u001b[38;5;124m\"\u001b[39m, \u001b[38;5;124m\"\u001b[39m\u001b[38;5;124medgecolor\u001b[39m\u001b[38;5;124m\"\u001b[39m, \u001b[38;5;124m\"\u001b[39m\u001b[38;5;124morientation\u001b[39m\u001b[38;5;124m\"\u001b[39m,\n\u001b[1;32m   2041\u001b[0m         \u001b[38;5;124m\"\u001b[39m\u001b[38;5;124mbbox_inches_restore\u001b[39m\u001b[38;5;124m\"\u001b[39m}\n\u001b[1;32m   2042\u001b[0m     skip \u001b[38;5;241m=\u001b[39m optional_kws \u001b[38;5;241m-\u001b[39m {\u001b[38;5;241m*\u001b[39minspect\u001b[38;5;241m.\u001b[39msignature(meth)\u001b[38;5;241m.\u001b[39mparameters}\n\u001b[0;32m-> 2043\u001b[0m     print_method \u001b[38;5;241m=\u001b[39m functools\u001b[38;5;241m.\u001b[39mwraps(meth)(\u001b[38;5;28;01mlambda\u001b[39;00m \u001b[38;5;241m*\u001b[39margs, \u001b[38;5;241m*\u001b[39m\u001b[38;5;241m*\u001b[39mkwargs: \u001b[43mmeth\u001b[49m\u001b[43m(\u001b[49m\n\u001b[1;32m   2044\u001b[0m \u001b[43m        \u001b[49m\u001b[38;5;241;43m*\u001b[39;49m\u001b[43margs\u001b[49m\u001b[43m,\u001b[49m\u001b[43m \u001b[49m\u001b[38;5;241;43m*\u001b[39;49m\u001b[38;5;241;43m*\u001b[39;49m\u001b[43m{\u001b[49m\u001b[43mk\u001b[49m\u001b[43m:\u001b[49m\u001b[43m \u001b[49m\u001b[43mv\u001b[49m\u001b[43m \u001b[49m\u001b[38;5;28;43;01mfor\u001b[39;49;00m\u001b[43m \u001b[49m\u001b[43mk\u001b[49m\u001b[43m,\u001b[49m\u001b[43m \u001b[49m\u001b[43mv\u001b[49m\u001b[43m \u001b[49m\u001b[38;5;129;43;01min\u001b[39;49;00m\u001b[43m \u001b[49m\u001b[43mkwargs\u001b[49m\u001b[38;5;241;43m.\u001b[39;49m\u001b[43mitems\u001b[49m\u001b[43m(\u001b[49m\u001b[43m)\u001b[49m\u001b[43m \u001b[49m\u001b[38;5;28;43;01mif\u001b[39;49;00m\u001b[43m \u001b[49m\u001b[43mk\u001b[49m\u001b[43m \u001b[49m\u001b[38;5;129;43;01mnot\u001b[39;49;00m\u001b[43m \u001b[49m\u001b[38;5;129;43;01min\u001b[39;49;00m\u001b[43m \u001b[49m\u001b[43mskip\u001b[49m\u001b[43m}\u001b[49m\u001b[43m)\u001b[49m)\n\u001b[1;32m   2045\u001b[0m \u001b[38;5;28;01melse\u001b[39;00m:  \u001b[38;5;66;03m# Let third-parties do as they see fit.\u001b[39;00m\n\u001b[1;32m   2046\u001b[0m     print_method \u001b[38;5;241m=\u001b[39m meth\n",
      "File \u001b[0;32m/opt/conda/lib/python3.9/site-packages/matplotlib/backends/backend_agg.py:497\u001b[0m, in \u001b[0;36mFigureCanvasAgg.print_png\u001b[0;34m(self, filename_or_obj, metadata, pil_kwargs)\u001b[0m\n\u001b[1;32m    450\u001b[0m \u001b[38;5;28;01mdef\u001b[39;00m \u001b[38;5;21mprint_png\u001b[39m(\u001b[38;5;28mself\u001b[39m, filename_or_obj, \u001b[38;5;241m*\u001b[39m, metadata\u001b[38;5;241m=\u001b[39m\u001b[38;5;28;01mNone\u001b[39;00m, pil_kwargs\u001b[38;5;241m=\u001b[39m\u001b[38;5;28;01mNone\u001b[39;00m):\n\u001b[1;32m    451\u001b[0m \u001b[38;5;250m    \u001b[39m\u001b[38;5;124;03m\"\"\"\u001b[39;00m\n\u001b[1;32m    452\u001b[0m \u001b[38;5;124;03m    Write the figure to a PNG file.\u001b[39;00m\n\u001b[1;32m    453\u001b[0m \n\u001b[0;32m   (...)\u001b[0m\n\u001b[1;32m    495\u001b[0m \u001b[38;5;124;03m        *metadata*, including the default 'Software' key.\u001b[39;00m\n\u001b[1;32m    496\u001b[0m \u001b[38;5;124;03m    \"\"\"\u001b[39;00m\n\u001b[0;32m--> 497\u001b[0m     \u001b[38;5;28;43mself\u001b[39;49m\u001b[38;5;241;43m.\u001b[39;49m\u001b[43m_print_pil\u001b[49m\u001b[43m(\u001b[49m\u001b[43mfilename_or_obj\u001b[49m\u001b[43m,\u001b[49m\u001b[43m \u001b[49m\u001b[38;5;124;43m\"\u001b[39;49m\u001b[38;5;124;43mpng\u001b[39;49m\u001b[38;5;124;43m\"\u001b[39;49m\u001b[43m,\u001b[49m\u001b[43m \u001b[49m\u001b[43mpil_kwargs\u001b[49m\u001b[43m,\u001b[49m\u001b[43m \u001b[49m\u001b[43mmetadata\u001b[49m\u001b[43m)\u001b[49m\n",
      "File \u001b[0;32m/opt/conda/lib/python3.9/site-packages/matplotlib/backends/backend_agg.py:446\u001b[0m, in \u001b[0;36mFigureCanvasAgg._print_pil\u001b[0;34m(self, filename_or_obj, fmt, pil_kwargs, metadata)\u001b[0m\n\u001b[1;32m    441\u001b[0m \u001b[38;5;250m\u001b[39m\u001b[38;5;124;03m\"\"\"\u001b[39;00m\n\u001b[1;32m    442\u001b[0m \u001b[38;5;124;03mDraw the canvas, then save it using `.image.imsave` (to which\u001b[39;00m\n\u001b[1;32m    443\u001b[0m \u001b[38;5;124;03m*pil_kwargs* and *metadata* are forwarded).\u001b[39;00m\n\u001b[1;32m    444\u001b[0m \u001b[38;5;124;03m\"\"\"\u001b[39;00m\n\u001b[1;32m    445\u001b[0m FigureCanvasAgg\u001b[38;5;241m.\u001b[39mdraw(\u001b[38;5;28mself\u001b[39m)\n\u001b[0;32m--> 446\u001b[0m \u001b[43mmpl\u001b[49m\u001b[38;5;241;43m.\u001b[39;49m\u001b[43mimage\u001b[49m\u001b[38;5;241;43m.\u001b[39;49m\u001b[43mimsave\u001b[49m\u001b[43m(\u001b[49m\n\u001b[1;32m    447\u001b[0m \u001b[43m    \u001b[49m\u001b[43mfilename_or_obj\u001b[49m\u001b[43m,\u001b[49m\u001b[43m \u001b[49m\u001b[38;5;28;43mself\u001b[39;49m\u001b[38;5;241;43m.\u001b[39;49m\u001b[43mbuffer_rgba\u001b[49m\u001b[43m(\u001b[49m\u001b[43m)\u001b[49m\u001b[43m,\u001b[49m\u001b[43m \u001b[49m\u001b[38;5;28;43mformat\u001b[39;49m\u001b[38;5;241;43m=\u001b[39;49m\u001b[43mfmt\u001b[49m\u001b[43m,\u001b[49m\u001b[43m \u001b[49m\u001b[43morigin\u001b[49m\u001b[38;5;241;43m=\u001b[39;49m\u001b[38;5;124;43m\"\u001b[39;49m\u001b[38;5;124;43mupper\u001b[39;49m\u001b[38;5;124;43m\"\u001b[39;49m\u001b[43m,\u001b[49m\n\u001b[1;32m    448\u001b[0m \u001b[43m    \u001b[49m\u001b[43mdpi\u001b[49m\u001b[38;5;241;43m=\u001b[39;49m\u001b[38;5;28;43mself\u001b[39;49m\u001b[38;5;241;43m.\u001b[39;49m\u001b[43mfigure\u001b[49m\u001b[38;5;241;43m.\u001b[39;49m\u001b[43mdpi\u001b[49m\u001b[43m,\u001b[49m\u001b[43m \u001b[49m\u001b[43mmetadata\u001b[49m\u001b[38;5;241;43m=\u001b[39;49m\u001b[43mmetadata\u001b[49m\u001b[43m,\u001b[49m\u001b[43m \u001b[49m\u001b[43mpil_kwargs\u001b[49m\u001b[38;5;241;43m=\u001b[39;49m\u001b[43mpil_kwargs\u001b[49m\u001b[43m)\u001b[49m\n",
      "File \u001b[0;32m/opt/conda/lib/python3.9/site-packages/matplotlib/image.py:1656\u001b[0m, in \u001b[0;36mimsave\u001b[0;34m(fname, arr, vmin, vmax, cmap, format, origin, dpi, metadata, pil_kwargs)\u001b[0m\n\u001b[1;32m   1654\u001b[0m pil_kwargs\u001b[38;5;241m.\u001b[39msetdefault(\u001b[38;5;124m\"\u001b[39m\u001b[38;5;124mformat\u001b[39m\u001b[38;5;124m\"\u001b[39m, \u001b[38;5;28mformat\u001b[39m)\n\u001b[1;32m   1655\u001b[0m pil_kwargs\u001b[38;5;241m.\u001b[39msetdefault(\u001b[38;5;124m\"\u001b[39m\u001b[38;5;124mdpi\u001b[39m\u001b[38;5;124m\"\u001b[39m, (dpi, dpi))\n\u001b[0;32m-> 1656\u001b[0m \u001b[43mimage\u001b[49m\u001b[38;5;241;43m.\u001b[39;49m\u001b[43msave\u001b[49m\u001b[43m(\u001b[49m\u001b[43mfname\u001b[49m\u001b[43m,\u001b[49m\u001b[43m \u001b[49m\u001b[38;5;241;43m*\u001b[39;49m\u001b[38;5;241;43m*\u001b[39;49m\u001b[43mpil_kwargs\u001b[49m\u001b[43m)\u001b[49m\n",
      "File \u001b[0;32m/opt/conda/lib/python3.9/site-packages/PIL/Image.py:2320\u001b[0m, in \u001b[0;36mImage.save\u001b[0;34m(self, fp, format, **params)\u001b[0m\n\u001b[1;32m   2317\u001b[0m         fp \u001b[38;5;241m=\u001b[39m builtins\u001b[38;5;241m.\u001b[39mopen(filename, \u001b[38;5;124m\"\u001b[39m\u001b[38;5;124mw+b\u001b[39m\u001b[38;5;124m\"\u001b[39m)\n\u001b[1;32m   2319\u001b[0m \u001b[38;5;28;01mtry\u001b[39;00m:\n\u001b[0;32m-> 2320\u001b[0m     \u001b[43msave_handler\u001b[49m\u001b[43m(\u001b[49m\u001b[38;5;28;43mself\u001b[39;49m\u001b[43m,\u001b[49m\u001b[43m \u001b[49m\u001b[43mfp\u001b[49m\u001b[43m,\u001b[49m\u001b[43m \u001b[49m\u001b[43mfilename\u001b[49m\u001b[43m)\u001b[49m\n\u001b[1;32m   2321\u001b[0m \u001b[38;5;28;01mexcept\u001b[39;00m \u001b[38;5;167;01mException\u001b[39;00m:\n\u001b[1;32m   2322\u001b[0m     \u001b[38;5;28;01mif\u001b[39;00m open_fp:\n",
      "File \u001b[0;32m/opt/conda/lib/python3.9/site-packages/PIL/PngImagePlugin.py:1374\u001b[0m, in \u001b[0;36m_save\u001b[0;34m(im, fp, filename, chunk, save_all)\u001b[0m\n\u001b[1;32m   1372\u001b[0m     _write_multiple_frames(im, fp, chunk, rawmode)\n\u001b[1;32m   1373\u001b[0m \u001b[38;5;28;01melse\u001b[39;00m:\n\u001b[0;32m-> 1374\u001b[0m     \u001b[43mImageFile\u001b[49m\u001b[38;5;241;43m.\u001b[39;49m\u001b[43m_save\u001b[49m\u001b[43m(\u001b[49m\u001b[43mim\u001b[49m\u001b[43m,\u001b[49m\u001b[43m \u001b[49m\u001b[43m_idat\u001b[49m\u001b[43m(\u001b[49m\u001b[43mfp\u001b[49m\u001b[43m,\u001b[49m\u001b[43m \u001b[49m\u001b[43mchunk\u001b[49m\u001b[43m)\u001b[49m\u001b[43m,\u001b[49m\u001b[43m \u001b[49m\u001b[43m[\u001b[49m\u001b[43m(\u001b[49m\u001b[38;5;124;43m\"\u001b[39;49m\u001b[38;5;124;43mzip\u001b[39;49m\u001b[38;5;124;43m\"\u001b[39;49m\u001b[43m,\u001b[49m\u001b[43m \u001b[49m\u001b[43m(\u001b[49m\u001b[38;5;241;43m0\u001b[39;49m\u001b[43m,\u001b[49m\u001b[43m \u001b[49m\u001b[38;5;241;43m0\u001b[39;49m\u001b[43m)\u001b[49m\u001b[43m \u001b[49m\u001b[38;5;241;43m+\u001b[39;49m\u001b[43m \u001b[49m\u001b[43mim\u001b[49m\u001b[38;5;241;43m.\u001b[39;49m\u001b[43msize\u001b[49m\u001b[43m,\u001b[49m\u001b[43m \u001b[49m\u001b[38;5;241;43m0\u001b[39;49m\u001b[43m,\u001b[49m\u001b[43m \u001b[49m\u001b[43mrawmode\u001b[49m\u001b[43m)\u001b[49m\u001b[43m]\u001b[49m\u001b[43m)\u001b[49m\n\u001b[1;32m   1376\u001b[0m \u001b[38;5;28;01mif\u001b[39;00m info:\n\u001b[1;32m   1377\u001b[0m     \u001b[38;5;28;01mfor\u001b[39;00m info_chunk \u001b[38;5;129;01min\u001b[39;00m info\u001b[38;5;241m.\u001b[39mchunks:\n",
      "File \u001b[0;32m/opt/conda/lib/python3.9/site-packages/PIL/ImageFile.py:510\u001b[0m, in \u001b[0;36m_save\u001b[0;34m(im, fp, tile, bufsize)\u001b[0m\n\u001b[1;32m    508\u001b[0m encoder \u001b[38;5;241m=\u001b[39m Image\u001b[38;5;241m.\u001b[39m_getencoder(im\u001b[38;5;241m.\u001b[39mmode, e, a, im\u001b[38;5;241m.\u001b[39mencoderconfig)\n\u001b[1;32m    509\u001b[0m \u001b[38;5;28;01mtry\u001b[39;00m:\n\u001b[0;32m--> 510\u001b[0m     \u001b[43mencoder\u001b[49m\u001b[38;5;241;43m.\u001b[39;49m\u001b[43msetimage\u001b[49m\u001b[43m(\u001b[49m\u001b[43mim\u001b[49m\u001b[38;5;241;43m.\u001b[39;49m\u001b[43mim\u001b[49m\u001b[43m,\u001b[49m\u001b[43m \u001b[49m\u001b[43mb\u001b[49m\u001b[43m)\u001b[49m\n\u001b[1;32m    511\u001b[0m     \u001b[38;5;28;01mif\u001b[39;00m encoder\u001b[38;5;241m.\u001b[39mpushes_fd:\n\u001b[1;32m    512\u001b[0m         encoder\u001b[38;5;241m.\u001b[39msetfd(fp)\n",
      "\u001b[0;31mSystemError\u001b[0m: tile cannot extend outside image"
     ]
    },
    {
     "data": {
      "text/plain": [
       "Canvas(toolbar=Toolbar(toolitems=[('Home', 'Reset original view', 'home', 'home'), ('Back', 'Back to previous view', 'arrow-left', 'back'), ('Forward', 'Forward to next view', 'arrow-right', 'forward'), ('Pan', 'Left button pans, Right button zooms\\nx/y fixes axis, CTRL fixes aspect', 'arrows', 'pan'), ('Zoom', 'Zoom to rectangle\\nx/y fixes axis', 'square-o', 'zoom'), ('Download', 'Download plot', 'floppy-o', 'save_figure')]))"
      ]
     },
     "metadata": {},
     "output_type": "display_data"
    }
   ],
   "source": [
    "plot_area_units(rates_df, m_result[\"state_2\"], \"TH\");"
   ]
  },
  {
   "cell_type": "code",
   "execution_count": null,
   "id": "7e72e6cf-30e9-41dd-bcc6-58aa67a9d34c",
   "metadata": {},
   "outputs": [],
   "source": []
  }
 ],
 "metadata": {
  "kernelspec": {
   "display_name": "Python 3 (ipykernel)",
   "language": "python",
   "name": "python3"
  },
  "language_info": {
   "codemirror_mode": {
    "name": "ipython",
    "version": 3
   },
   "file_extension": ".py",
   "mimetype": "text/x-python",
   "name": "python",
   "nbconvert_exporter": "python",
   "pygments_lexer": "ipython3",
   "version": "3.9.12"
  }
 },
 "nbformat": 4,
 "nbformat_minor": 5
}
