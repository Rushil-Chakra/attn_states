{
 "cells": [
  {
   "cell_type": "markdown",
   "id": "ea6e7263-8458-4f62-82e7-cadee4e4c171",
   "metadata": {},
   "source": [
    "# Boilerplate"
   ]
  },
  {
   "cell_type": "code",
   "execution_count": 1,
   "id": "617b2c0f-2dd5-40c6-853f-84eceb0419b9",
   "metadata": {
    "tags": []
   },
   "outputs": [
    {
     "name": "stderr",
     "output_type": "stream",
     "text": [
      "/opt/conda/lib/python3.9/site-packages/tqdm/auto.py:22: TqdmWarning: IProgress not found. Please update jupyter and ipywidgets. See https://ipywidgets.readthedocs.io/en/stable/user_install.html\n",
      "  from .autonotebook import tqdm as notebook_tqdm\n"
     ]
    }
   ],
   "source": [
    "from typing import Union\n",
    "from allensdk.brain_observatory.ecephys.behavior_ecephys_session import BehaviorEcephysSession\n",
    "\n",
    "\n",
    "from allensdk.brain_observatory.behavior.behavior_project_cache import (\n",
    "    VisualBehaviorNeuropixelsProjectCache,\n",
    ")\n",
    "import brain_observatory_utilities.datasets.behavior.data_formatting as behavior_utils\n",
    "\n",
    "import pandas as pd\n",
    "import numpy as np\n",
    "\n",
    "import matplotlib.pyplot as plt\n",
    "import matplotlib.cm as cm\n",
    "import seaborn as sns\n",
    "\n",
    "from hmmlearn import hmm, vhmm\n",
    "from sklearn.decomposition import PCA, KernelPCA, FactorAnalysis\n",
    "from sklearn.preprocessing import StandardScaler\n",
    "\n",
    "import utils\n",
    "\n",
    "import warnings\n",
    "warnings.filterwarnings(\"ignore\")\n",
    "\n",
    "# Random seed\n",
    "SEED = 42\n",
    "\n",
    "%matplotlib inline"
   ]
  },
  {
   "cell_type": "code",
   "execution_count": 2,
   "id": "143a2a8b-d350-4eb8-beea-fe3cf97459f7",
   "metadata": {
    "tags": []
   },
   "outputs": [],
   "source": [
    "cache_dir = utils.get_data_root()\n",
    "cache = VisualBehaviorNeuropixelsProjectCache.from_local_cache(\n",
    "    cache_dir=cache_dir, use_static_cache=True\n",
    ")"
   ]
  },
  {
   "cell_type": "code",
   "execution_count": 3,
   "id": "2dd3a584-1b71-4ac4-92e0-fc20ba329280",
   "metadata": {
    "tags": []
   },
   "outputs": [],
   "source": [
    "ephys_table = cache.get_ecephys_session_table()\n",
    "ephys_table = ephys_table.loc[(~ephys_table[\"behavior_session_id\"].isna()) & \n",
    "                              (ephys_table[\"experience_level\"] == \"Familiar\")\n",
    "                             ]"
   ]
  },
  {
   "cell_type": "code",
   "execution_count": null,
   "id": "4858a503-cfa8-4475-9c07-fe7d337400d1",
   "metadata": {
    "tags": []
   },
   "outputs": [],
   "source": [
    "# session_id = 1124507277\n",
    "# session_id = 1069461581\n",
    "# session_ids = [1124507277, 1069461581, ephys_table.index[10], 1069461581]\n",
    "session_ids = np.random.choice(ephys_table.index, 10)\n",
    "sessions = [cache.get_ecephys_session(session_id) for session_id in session_ids]"
   ]
  },
  {
   "cell_type": "markdown",
   "id": "634f3ace-1518-4f78-adaa-2182655248e7",
   "metadata": {
    "tags": []
   },
   "source": [
    "# Defining Behavioral Metrics"
   ]
  },
  {
   "cell_type": "code",
   "execution_count": null,
   "id": "0fd6d27f-fc2a-44f6-92e5-bcc9653cd9a9",
   "metadata": {
    "tags": []
   },
   "outputs": [],
   "source": [
    "def align_to_stimulus(df: pd.DataFrame, session: BehaviorEcephysSession, active: bool = True) -> pd.DataFrame:\n",
    "    if \"timestamps\" not in df.columns:\n",
    "        raise ValueError(\"column timestamps must be present in df.\")\n",
    "    \n",
    "    stim_presentations = session.stimulus_presentations\n",
    "    if active:\n",
    "        stim_presentations = stim_presentations.loc[stim_presentations[\"active\"]]\n",
    "    \n",
    "    df = df.loc[(stim_presentations[\"start_time\"].min() <= df[\"timestamps\"]) \n",
    "                & (df[\"timestamps\"] <= stim_presentations[\"end_time\"].max())]\n",
    "    bins = pd.concat([pd.Series([0]), stim_presentations[\"end_time\"]])\n",
    "    labels = stim_presentations.index\n",
    "    stimulus_id_aligned = pd.cut(df[\"timestamps\"], bins=bins, labels=labels, include_lowest=True, right=False)\n",
    "    df = pd.concat([pd.Series(stimulus_id_aligned, name=\"stimulus_id\"), df], axis=1)\n",
    "    return df"
   ]
  },
  {
   "cell_type": "code",
   "execution_count": null,
   "id": "2b2b6f90-2bac-46c4-bca7-3fdc8088cbfb",
   "metadata": {
    "tags": []
   },
   "outputs": [],
   "source": [
    "def get_saccade_lengths(session_eye: pd.DataFrame) -> pd.DataFrame:\n",
    "    x_y_dist = session_eye[[\"pupil_center_x\", \"pupil_center_y\"]].diff()\n",
    "    distance = pd.Series(\n",
    "        np.sqrt(np.square(x_y_dist[\"pupil_center_x\"]) + np.square(x_y_dist[\"pupil_center_y\"])),\n",
    "        name=\"saccade_length\"\n",
    "    )\n",
    "    distance = pd.concat([session_eye[\"timestamps\"], distance],axis=1)\n",
    "    return distance"
   ]
  },
  {
   "cell_type": "code",
   "execution_count": null,
   "id": "a4f5e3a7-a368-4f74-9f84-73c7ae945cef",
   "metadata": {
    "tags": []
   },
   "outputs": [],
   "source": [
    "def get_behavior_metrics(\n",
    "    session: BehaviorEcephysSession, \n",
    "    window: int = 20,\n",
    "    center: bool = True,\n",
    ") -> pd.DataFrame:\n",
    "    eye = session.eye_tracking\n",
    "    eye = eye.loc[eye[\"likely_blink\"] != True]\n",
    "    eye_metrics = eye[[\"timestamps\", \"pupil_area\", \"pupil_center_x\", \"pupil_center_y\"]]\n",
    "    saccade_lengths = get_saccade_lengths(eye_metrics)\n",
    "    eye_metrics = eye_metrics.merge(saccade_lengths, on=\"timestamps\").drop(columns=[\"pupil_center_x\", \"pupil_center_y\"])\n",
    "    eye_metrics = align_to_stimulus(eye_metrics, session)\n",
    "    \n",
    "    rewards = session.rewards\n",
    "    rewards[\"volume\"] = 1\n",
    "    rewards = rewards.loc[~rewards[\"auto_rewarded\"]].drop(columns=\"auto_rewarded\")\n",
    "    rewards_metric = align_to_stimulus(rewards, session)\n",
    "    rewards_metric[\"volume\"] = rewards_metric[\"volume\"].cumsum()\n",
    "    \n",
    "    running_metrics = session.running_speed\n",
    "    running_metrics = align_to_stimulus(running_metrics, session)\n",
    "\n",
    "    lick_metrics = session.licks\n",
    "    lick_metrics = align_to_stimulus(lick_metrics, session)\n",
    "    lick_metrics = lick_metrics.groupby(\"stimulus_id\").count().rename({\"frame\": \"lick_count\"}, axis=1)[\"lick_count\"]\n",
    "\n",
    "    \n",
    "    metrics = eye_metrics.merge(running_metrics, on=\"stimulus_id\")#.merge(rewards_metric, on=\"stimulus_id\", how=\"left\").rename({\"volume\": \"running_reward\"}, axis=1)\n",
    "    #csum = metrics[\"running_reward\"].notnull().cumsum()\n",
    "    #metrics[\"running_reward\"] = metrics[\"running_reward\"].fillna(0).groupby(csum).transform('sum')\n",
    "    metrics = metrics.loc[:, ~metrics.columns.str.startswith(\"timestamps\")]\n",
    "    metrics = metrics.groupby(\"stimulus_id\").mean()\n",
    "    # metrics = metrics.merge(lick_metrics, on=\"stimulus_id\")\n",
    "    \n",
    "    rolling_perf = session.get_rolling_performance_df()[[\"rolling_dprime\"]]\n",
    "    stimulus_presentations = session.stimulus_presentations\n",
    "    metrics = metrics.merge(stimulus_presentations[\"trials_id\"], left_on=\"stimulus_id\", right_index=True).merge(rolling_perf, left_on=\"trials_id\", right_index=True)\n",
    "    \n",
    "    metrics = metrics.loc[metrics.isna().sum(axis=1) == 0]\n",
    "    metrics = metrics.drop(columns=\"trials_id\")\n",
    "    \n",
    "    if center:\n",
    "        metrics[[\"pupil_area\", \"saccade_length\", \"speed\"]] -= metrics[[\"pupil_area\", \"saccade_length\", \"speed\"]].mean(axis=0)\n",
    "\n",
    "    return metrics"
   ]
  },
  {
   "cell_type": "code",
   "execution_count": null,
   "id": "652b7c6d-ad46-422a-8dc2-536cd83297b8",
   "metadata": {
    "tags": []
   },
   "outputs": [],
   "source": [
    "metrics = [get_behavior_metrics(session) for session in sessions]"
   ]
  },
  {
   "cell_type": "code",
   "execution_count": null,
   "id": "d9e49ac3-bb5d-4678-9fdb-096a69c806e4",
   "metadata": {
    "tags": []
   },
   "outputs": [],
   "source": [
    "metric_idx = 5"
   ]
  },
  {
   "cell_type": "code",
   "execution_count": null,
   "id": "443a0797-c7a0-46cc-a2ea-13c3ea0f4d66",
   "metadata": {
    "tags": []
   },
   "outputs": [],
   "source": [
    "sns.pairplot(metrics[metric_idx], corner=True);"
   ]
  },
  {
   "cell_type": "code",
   "execution_count": null,
   "id": "bb1411d4-a4ee-4d3c-97ad-5402884dcf14",
   "metadata": {
    "tags": []
   },
   "outputs": [],
   "source": [
    "model = hmm.GaussianHMM(n_components=2, n_iter=100000, random_state=SEED, init_params=\"mc\", covariance_type=\"tied\")\n",
    "model.startprob_ = np.array([0.9, 0.1])\n",
    "model.transmat_ = np.array([[0.99, 0.01],\n",
    "                            [0.01, 0.99]])\n",
    "# model.covars_prior = (eye := np.ones(metrics[0].shape[1]))/2"
   ]
  },
  {
   "cell_type": "code",
   "execution_count": null,
   "id": "00afc761-9b69-423b-a510-57cbbffdfb36",
   "metadata": {
    "tags": []
   },
   "outputs": [],
   "source": [
    "X = pd.concat(metrics)\n",
    "X_lens = [len(x) for x in metrics]\n",
    "model.fit(X, X_lens)\n",
    "m_result = metrics[metric_idx].copy()\n",
    "m_result[\"state\"] = model.predict(metrics[metric_idx])"
   ]
  },
  {
   "cell_type": "code",
   "execution_count": null,
   "id": "9aa140f1-95e9-492c-9a38-4a8ed4ee539d",
   "metadata": {
    "tags": []
   },
   "outputs": [],
   "source": [
    "plt.plot(np.arange(m_result.shape[0]),m_result[\"state\"]);"
   ]
  },
  {
   "cell_type": "code",
   "execution_count": null,
   "id": "b4d8aa05-a68c-4a9d-906f-68884562d825",
   "metadata": {
    "tags": []
   },
   "outputs": [],
   "source": [
    "sns.pairplot(m_result, corner=True, hue=\"state\");"
   ]
  },
  {
   "cell_type": "code",
   "execution_count": null,
   "id": "aae5df2c-3319-490c-8f9d-bca23fbe9c1f",
   "metadata": {
    "tags": []
   },
   "outputs": [],
   "source": [
    "sns.scatterplot(\n",
    "    m_result,\n",
    "    x=np.arange(m_result.shape[0]),\n",
    "    y=\"rolling_dprime\",\n",
    "    hue=m_result[\"state\"]);"
   ]
  },
  {
   "cell_type": "code",
   "execution_count": null,
   "id": "88f70cb0-ecba-4739-9f3a-01508690d06a",
   "metadata": {
    "tags": []
   },
   "outputs": [],
   "source": [
    "pca = PCA(n_components=2)\n",
    "embeddings = pca.fit_transform(metrics[metric_idx])\n",
    "plt.scatter(embeddings[:, 0], embeddings[:, 1], c=m_result[\"state\"], alpha=0.2);"
   ]
  },
  {
   "cell_type": "code",
   "execution_count": null,
   "id": "1aaa096d-c6c8-42bb-ab36-f924e3732c3b",
   "metadata": {},
   "outputs": [],
   "source": []
  }
 ],
 "metadata": {
  "kernelspec": {
   "display_name": "Python 3 (ipykernel)",
   "language": "python",
   "name": "python3"
  },
  "language_info": {
   "codemirror_mode": {
    "name": "ipython",
    "version": 3
   },
   "file_extension": ".py",
   "mimetype": "text/x-python",
   "name": "python",
   "nbconvert_exporter": "python",
   "pygments_lexer": "ipython3",
   "version": "3.9.12"
  }
 },
 "nbformat": 4,
 "nbformat_minor": 5
}
