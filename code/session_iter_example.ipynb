{
 "cells": [
  {
   "cell_type": "code",
   "execution_count": 1,
   "id": "53e48e36-38a7-443e-add7-22c7634c00f0",
   "metadata": {
    "tags": []
   },
   "outputs": [
    {
     "name": "stderr",
     "output_type": "stream",
     "text": [
      "/opt/conda/lib/python3.9/site-packages/tqdm/auto.py:22: TqdmWarning: IProgress not found. Please update jupyter and ipywidgets. See https://ipywidgets.readthedocs.io/en/stable/user_install.html\n",
      "  from .autonotebook import tqdm as notebook_tqdm\n"
     ]
    }
   ],
   "source": [
    "import pandas as pd\n",
    "import warnings\n",
    "\n",
    "from allensdk.brain_observatory.behavior.behavior_project_cache import (\n",
    "    VisualBehaviorNeuropixelsProjectCache,\n",
    ")\n",
    "\n",
    "import utils\n",
    "warnings.filterwarnings(\"ignore\")"
   ]
  },
  {
   "cell_type": "code",
   "execution_count": 2,
   "id": "9f810ea2-6758-4745-989b-cbb88196c196",
   "metadata": {
    "tags": []
   },
   "outputs": [],
   "source": [
    "cache_dir = utils.get_data_root()\n",
    "cache = VisualBehaviorNeuropixelsProjectCache.from_local_cache(\n",
    "    cache_dir=cache_dir, use_static_cache=True\n",
    ")"
   ]
  },
  {
   "cell_type": "code",
   "execution_count": 3,
   "id": "ea245dd7-cca3-4cbb-904d-4e9cd44a7f67",
   "metadata": {
    "tags": []
   },
   "outputs": [],
   "source": [
    "behavior_table = cache.get_behavior_session_table()\n",
    "behavior_table = behavior_table.loc[~behavior_table[\"ecephys_session_id\"].isna()]"
   ]
  },
  {
   "cell_type": "code",
   "execution_count": 4,
   "id": "3c2de498-20d2-4778-900b-c7fa79236e6c",
   "metadata": {
    "tags": []
   },
   "outputs": [],
   "source": [
    "def get_hit_proportion(session):\n",
    "    metrics = session.get_performance_metrics()\n",
    "    hit_rate = metrics[\"hit_trial_count\"]/metrics[\"go_trial_count\"]\n",
    "    return hit_rate"
   ]
  },
  {
   "cell_type": "code",
   "execution_count": 5,
   "id": "9137f955-efa9-4f48-9348-a7b177da1850",
   "metadata": {
    "tags": []
   },
   "outputs": [
    {
     "name": "stdout",
     "output_type": "stream",
     "text": [
      "Using 16 cores.\n",
      "processing batch 1/2...\n",
      "processing batch 2/2...\n",
      "CPU times: user 1min 44s, sys: 9.25 s, total: 1min 54s\n",
      "Wall time: 2min 20s\n"
     ]
    }
   ],
   "source": [
    "%%time\n",
    "hit_rates = utils.parallel_session_map(get_hit_proportion, behavior_table.index[:64], \"behavior\")"
   ]
  },
  {
   "cell_type": "code",
   "execution_count": 6,
   "id": "6d0f7fcb-236e-40fb-b147-b1a1d2be00e9",
   "metadata": {
    "tags": []
   },
   "outputs": [
    {
     "data": {
      "text/plain": [
       "{'sessions': [(1040882886, 0.046762589928057555),\n",
       "  (1042886405, 0.7920792079207921),\n",
       "  (1042328825, 0.2518518518518518),\n",
       "  (1041062566, 0.057432432432432436),\n",
       "  (1042578564, 0.47540983606557374),\n",
       "  (1043159973, 0.78),\n",
       "  (1046544616, 0.303125),\n",
       "  (1045537416, 0.8893617021276595),\n",
       "  (1046899054, 0.884),\n",
       "  (1047539988, 0.9285714285714286),\n",
       "  (1045850999, 0.5297805642633229),\n",
       "  (1046138464, 0.4915254237288136),\n",
       "  (1047763374, 0.8134920634920635),\n",
       "  (1041990669, 0.4327731092436975),\n",
       "  (1043116644, 0.42084942084942084),\n",
       "  (1042255911, 0.40794223826714804),\n",
       "  (1042797881, 0.464),\n",
       "  (1044018701, 0.3211009174311927),\n",
       "  (1043758311, 0.5333333333333333),\n",
       "  (1047506623, 0.5630252100840336),\n",
       "  (1047727979, 0.5148936170212766),\n",
       "  (1047949371, 0.6356275303643725),\n",
       "  (1048401653, 0.8795180722891566),\n",
       "  (1049102052, 0.7974137931034483),\n",
       "  (1048157441, 0.6757990867579908),\n",
       "  (1040427027, 0.7647058823529411),\n",
       "  (1041062571, 0.20522388059701493),\n",
       "  (1042055457, 0.48484848484848486),\n",
       "  (1043697372, 0.483739837398374),\n",
       "  (1040846423, 0.4956140350877193),\n",
       "  (1041468816, 0.3181818181818182),\n",
       "  (1042771772, 0.5406698564593302),\n",
       "  (1042515564, 0.5642458100558659),\n",
       "  (1043086468, 0.5775401069518716),\n",
       "  (1042296878, 0.29292929292929293),\n",
       "  (1050659461, 0.8835341365461847),\n",
       "  (1049060328, 0.3423728813559322),\n",
       "  (1049248120, 0.322884012539185),\n",
       "  (1049476276, 0.6900369003690037),\n",
       "  (1049729988, 0.7020408163265306),\n",
       "  (1050291369, 0.9023255813953488),\n",
       "  (1050987699, 0.7862903225806451),\n",
       "  (1046902368, 0.8767123287671232),\n",
       "  (1045481671, 0.9123505976095617),\n",
       "  (1045844000, 0.7716535433070866),\n",
       "  (1047537648, 0.9208860759493671),\n",
       "  (1046147558, 0.9444444444444444),\n",
       "  (1047760974, 0.784375),\n",
       "  (1052162525, 0.3805970149253731),\n",
       "  (1052162515, 0.6445497630331753),\n",
       "  (1052162528, 0.5461254612546126),\n",
       "  (1050617163, 0.6376811594202898),\n",
       "  (1050285288, 0.3360995850622407),\n",
       "  (1050941867, 0.4898785425101215),\n",
       "  (1051134845, 0.5039370078740157),\n",
       "  (1045923850, 0.5757575757575758),\n",
       "  (1043680059, 0.8052434456928839),\n",
       "  (1044374587, 0.6645569620253164),\n",
       "  (1044572028, 0.597972972972973),\n",
       "  (1044965609, 0.7361563517915309),\n",
       "  (1045581242, 0.7205882352941176),\n",
       "  (1043982103, 0.7301587301587301),\n",
       "  (1052162550, 0.43636363636363634),\n",
       "  (1052316792, 0.34234234234234234)]}"
      ]
     },
     "execution_count": 6,
     "metadata": {},
     "output_type": "execute_result"
    }
   ],
   "source": [
    "hit_rates"
   ]
  }
 ],
 "metadata": {
  "kernelspec": {
   "display_name": "Python 3 (ipykernel)",
   "language": "python",
   "name": "python3"
  },
  "language_info": {
   "codemirror_mode": {
    "name": "ipython",
    "version": 3
   },
   "file_extension": ".py",
   "mimetype": "text/x-python",
   "name": "python",
   "nbconvert_exporter": "python",
   "pygments_lexer": "ipython3",
   "version": "3.9.12"
  }
 },
 "nbformat": 4,
 "nbformat_minor": 5
}
