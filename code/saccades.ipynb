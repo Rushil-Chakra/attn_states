{
 "cells": [
  {
   "cell_type": "code",
   "execution_count": 1,
   "id": "290214e4-7e0a-4f93-b037-d12123fca621",
   "metadata": {
    "tags": []
   },
   "outputs": [
    {
     "name": "stderr",
     "output_type": "stream",
     "text": [
      "/opt/conda/lib/python3.9/site-packages/tqdm/auto.py:22: TqdmWarning: IProgress not found. Please update jupyter and ipywidgets. See https://ipywidgets.readthedocs.io/en/stable/user_install.html\n",
      "  from .autonotebook import tqdm as notebook_tqdm\n"
     ]
    }
   ],
   "source": [
    "import pandas as pd\n",
    "import numpy as np\n",
    "import warnings\n",
    "\n",
    "from allensdk.brain_observatory.behavior.behavior_project_cache import (\n",
    "    VisualBehaviorNeuropixelsProjectCache,\n",
    ")\n",
    "import brain_observatory_utilities.datasets.behavior.data_formatting as behavior_utils\n",
    "\n",
    "import utils\n",
    "\n",
    "import matplotlib.pyplot as plt\n",
    "import seaborn as sns\n",
    "\n",
    "warnings.filterwarnings(\"ignore\")\n",
    "\n",
    "%matplotlib inline"
   ]
  },
  {
   "cell_type": "code",
   "execution_count": 2,
   "id": "10f9ddd2-2741-48dd-9e46-6bf939b9102f",
   "metadata": {
    "tags": []
   },
   "outputs": [],
   "source": [
    "cache_dir = utils.get_data_root()\n",
    "cache = VisualBehaviorNeuropixelsProjectCache.from_local_cache(\n",
    "    cache_dir=cache_dir, use_static_cache=True\n",
    ")"
   ]
  },
  {
   "cell_type": "code",
   "execution_count": 5,
   "id": "55b66286-7861-419e-a681-07ba5cd63e73",
   "metadata": {
    "tags": []
   },
   "outputs": [],
   "source": [
    "ephys_table = cache.get_ecephys_session_table()"
   ]
  },
  {
   "cell_type": "code",
   "execution_count": 4,
   "id": "aa93f8cb-ffbd-4866-8d7c-5be9b4a76201",
   "metadata": {
    "tags": []
   },
   "outputs": [
    {
     "name": "stdout",
     "output_type": "stream",
     "text": [
      "1053718935\n"
     ]
    }
   ],
   "source": [
    "session_id = ephys_table.index[12]\n",
    "print(session_id)\n",
    "# session = cache.get_ecephys_session(session_id)"
   ]
  },
  {
   "cell_type": "code",
   "execution_count": 3,
   "id": "d957712a-5074-41aa-bb2c-9798851c3756",
   "metadata": {
    "tags": []
   },
   "outputs": [],
   "source": [
    "def distance(data: pd.DataFrame, x_col: str, y_col: str) -> pd.DataFrame:\n",
    "    \"\"\"Calculate Euclidean distance between observations of a df.\n",
    "    \n",
    "    Parameters\n",
    "    ----------\n",
    "    data\n",
    "        Df where every row is an observation containing an x and y position\n",
    "    x_col\n",
    "        Name of column in df containing x positions\n",
    "    y_col\n",
    "        Name of column in df containing y positions\n",
    "    \n",
    "    Returns\n",
    "    -------\n",
    "    distances\n",
    "        DataFrame of distances between observations\n",
    "    \"\"\"\n",
    "    # Assumes a timestamps column exists and trial_id\n",
    "    positions = data[[x_col, y_col]]\n",
    "    positions = positions.diff()\n",
    "    dist = np.sqrt(np.square(positions[x_col]) + np.square(positions[y_col]))\n",
    "    distances = pd.DataFrame(dist.values,columns=[\"distance\"])\n",
    "    distances = distances[~distances[\"distance\"].isna()]\n",
    "    \n",
    "    distances[\"timestamps\"] = data[\"timestamps\"]\n",
    "    distances[\"trial_id\"] = data[\"trial_id\"]\n",
    "    \n",
    "    distances = distances[~distances[\"trial_id\"].isna()]\n",
    "    distances.index = distances[\"trial_id\"]\n",
    "    distances.index.name = None\n",
    "    \n",
    "    return distances\n",
    "\n",
    "def get_eye_data(session) -> pd.DataFrame:\n",
    "    # Filtering eye to be in the trial intervals and bin them\n",
    "    eye = session.eye_tracking\n",
    "    trials = session.trials\n",
    "    rewards = session.rewards\n",
    "    \n",
    "    bins = pd.concat([pd.Series([0]), trials[\"stop_time\"]])\n",
    "    eye = eye.loc[(eye[\"timestamps\"] >= trials.iloc[0][\"start_time\"]) & (eye[\"timestamps\"] <= trials.iloc[-1][ \"stop_time\"])]\n",
    "    eye[\"trial_id\"] = pd.cut(eye[\"timestamps\"], bins=bins, labels=trials.index, include_lowest=True, right=True)\n",
    "    \n",
    "    avgs = eye.groupby(\"trial_id\").mean()[[\"pupil_area\", \"pupil_center_x\", \"pupil_center_y\"]]\n",
    "    blink_sum = eye.groupby(\"trial_id\").sum()[\"likely_blink\"]\n",
    "    saccades = distance(eye, \"pupil_center_x\", \"pupil_center_y\")\n",
    "    avg_saccades = saccades.groupby(\"trial_id\").mean()[\"distance\"]\n",
    "    eye_df = avgs.join(blink_sum).join(avg_saccades).join(rewards[\"auto_rewarded\"])\n",
    "    eye_df = eye_df.loc[~eye_df[\"auto_rewarded\"].astype(bool)].iloc[:, :-1]\n",
    "    return eye_df"
   ]
  },
  {
   "cell_type": "code",
   "execution_count": 6,
   "id": "b7b00680-5387-4b7c-82d5-eff129c1bc8e",
   "metadata": {
    "tags": []
   },
   "outputs": [
    {
     "ename": "NameError",
     "evalue": "name 'session' is not defined",
     "output_type": "error",
     "traceback": [
      "\u001b[0;31m---------------------------------------------------------------------------\u001b[0m",
      "\u001b[0;31mNameError\u001b[0m                                 Traceback (most recent call last)",
      "Cell \u001b[0;32mIn[6], line 1\u001b[0m\n\u001b[0;32m----> 1\u001b[0m df \u001b[38;5;241m=\u001b[39m get_eye_data(\u001b[43msession\u001b[49m)\n",
      "\u001b[0;31mNameError\u001b[0m: name 'session' is not defined"
     ]
    }
   ],
   "source": [
    "df = get_eye_data(session)"
   ]
  },
  {
   "cell_type": "code",
   "execution_count": null,
   "id": "23af7889-a1c5-4355-be5a-916bcadd2485",
   "metadata": {
    "tags": []
   },
   "outputs": [],
   "source": [
    "sns.scatterplot(x=df[\"pupil_center_x\"],y=df[\"pupil_center_y\"], h=trial)\n",
    "# plt.yscale(\"log\")"
   ]
  },
  {
   "cell_type": "code",
   "execution_count": null,
   "id": "9a112f94-4e29-475a-926e-6bbd990506ea",
   "metadata": {
    "tags": []
   },
   "outputs": [],
   "source": [
    "data = pd.concat([utils.session_call(get_eye_data, session_id, \"ephys\", cache) for session_id in ephys_table.index])"
   ]
  },
  {
   "cell_type": "code",
   "execution_count": null,
   "id": "a65f1508-8d96-4bca-94d3-cf61880a5204",
   "metadata": {
    "tags": []
   },
   "outputs": [
    {
     "name": "stdout",
     "output_type": "stream",
     "text": [
      "Using 16 cores.\n",
      "processing batch 1/3...\n"
     ]
    }
   ],
   "source": [
    "data = utils.parallel_session_map(get_eye_data, ephys_table.index, \"ephys\", cores=16)"
   ]
  },
  {
   "cell_type": "code",
   "execution_count": null,
   "id": "7ca908d1-4c66-4ca5-84a2-63b1727a5a06",
   "metadata": {
    "tags": []
   },
   "outputs": [],
   "source": [
    "sns.histplot(a[\"distance\"])"
   ]
  },
  {
   "cell_type": "code",
   "execution_count": null,
   "id": "5d92b2df-7cd3-4914-8503-24eda82d320e",
   "metadata": {},
   "outputs": [],
   "source": []
  }
 ],
 "metadata": {
  "kernelspec": {
   "display_name": "Python 3 (ipykernel)",
   "language": "python",
   "name": "python3"
  },
  "language_info": {
   "codemirror_mode": {
    "name": "ipython",
    "version": 3
   },
   "file_extension": ".py",
   "mimetype": "text/x-python",
   "name": "python",
   "nbconvert_exporter": "python",
   "pygments_lexer": "ipython3",
   "version": "3.9.12"
  }
 },
 "nbformat": 4,
 "nbformat_minor": 5
}
