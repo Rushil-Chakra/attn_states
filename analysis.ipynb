{
 "cells": [
  {
   "cell_type": "code",
   "execution_count": 10,
   "id": "53e48e36-38a7-443e-add7-22c7634c00f0",
   "metadata": {
    "tags": []
   },
   "outputs": [],
   "source": [
    "from typing import Sequence\n",
    "\n",
    "import pandas as pd\n",
    "import numpy as np\n",
    "import matplotlib.pyplot as plt\n",
    "import seaborn as sns\n",
    "\n",
    "import os\n",
    "import multiprocess\n",
    "import warnings\n",
    "warnings.filterwarnings(\"ignore\")"
   ]
  },
  {
   "cell_type": "code",
   "execution_count": 11,
   "id": "b86b80ca-0b2a-4459-afc6-9aeaa3a0bb68",
   "metadata": {
    "tags": []
   },
   "outputs": [],
   "source": [
    "pd.set_option('display.max_columns', None)\n",
    "\n",
    "%matplotlib inline\n",
    "\n",
    "import platform\n",
    "platstring = platform.platform()\n",
    "\n",
    "if 'Darwin' in platstring:\n",
    "    # macOS \n",
    "    data_root = \"/Volumes/Brain2023/\"\n",
    "elif 'Windows'  in platstring:\n",
    "    # Windows (replace with the drive letter of USB drive)\n",
    "    data_root = \"E:/\"\n",
    "elif ('amzn' in platstring):\n",
    "    # then on CodeOcean\n",
    "    data_root = \"/data/\"\n",
    "else:\n",
    "    # then your own linux platform\n",
    "    # EDIT location where you mounted hard drive\n",
    "    data_root = \"/media/$USERNAME/Brain2023/\""
   ]
  },
  {
   "cell_type": "code",
   "execution_count": 5,
   "id": "91ea9cb7-2082-4366-bd25-7185a7492b43",
   "metadata": {
    "tags": []
   },
   "outputs": [],
   "source": [
    "from allensdk.brain_observatory.behavior.behavior_project_cache import VisualBehaviorNeuropixelsProjectCache\n",
    "\n",
    "cache_dir  = data_root\n",
    "\n",
    "cache = VisualBehaviorNeuropixelsProjectCache.from_local_cache(cache_dir=cache_dir, use_static_cache=True)"
   ]
  },
  {
   "cell_type": "code",
   "execution_count": 31,
   "id": "ad494ea9-a4f1-49f7-bb9d-cff3364af6d9",
   "metadata": {
    "tags": []
   },
   "outputs": [],
   "source": [
    "import os"
   ]
  },
  {
   "cell_type": "code",
   "execution_count": 37,
   "id": "ce611ab5-e4cf-4a7c-abba-d92e88bc1b0a",
   "metadata": {
    "tags": []
   },
   "outputs": [
    {
     "data": {
      "text/plain": [
       "153"
      ]
     },
     "execution_count": 37,
     "metadata": {},
     "output_type": "execute_result"
    }
   ],
   "source": [
    "len(os.listdir(f\"{data_root}/visual-behavior-neuropixels/behavior_ecephys_sessions/\"))"
   ]
  },
  {
   "cell_type": "code",
   "execution_count": 18,
   "id": "7c12d5af-1cc9-4106-9703-64be2c5f0102",
   "metadata": {
    "tags": []
   },
   "outputs": [],
   "source": [
    "def session_call(func: callable, session_id: int, session_type:str = None) -> tuple[int, object]:\n",
    "    \"\"\"\n",
    "    Pull a session object from an already instantiated cache object.\n",
    "    \n",
    "    Parameters\n",
    "    ----------\n",
    "    func\n",
    "        Function to apply over session. The function should take a Session object\n",
    "        as it's input.\n",
    "    session_id\n",
    "        Session id from a cache table to pull information for.\n",
    "    \n",
    "    Returns\n",
    "    -------\n",
    "    session_id\n",
    "        The session_id processed\n",
    "    result\n",
    "        The output of the function\n",
    "    \n",
    "    \"\"\"\n",
    "    # session = cache.get_ecephys_session(session_id)\n",
    "    session = cache.get_behavior_session(session_id)\n",
    "    result = func(session)\n",
    "    return session_id, result\n",
    "\n",
    "def parallel_session_map(func: callable, session_id_list: Sequence, batch_size: int = 32, cores: int = 1) -> dict:\n",
    "    \"\"\"Given a table from a cache, yield all the sessions as a list.\n",
    "    \n",
    "    This is done in batches to prevent problems with the database.\n",
    "    \n",
    "    Parameters\n",
    "    ----------\n",
    "    func\n",
    "        Function to apply over all sessions\n",
    "    session_id_list\n",
    "        List of session_ids to grab\n",
    "    batch_size\n",
    "        The number of parallel queries to do.\n",
    "    cores\n",
    "        Number of CPUs to use.\n",
    "    \n",
    "    Returns\n",
    "    -------\n",
    "    sessions\n",
    "        Dictionary of session objects from the table where keys are the session_id and values\n",
    "        are the output of the function called.\n",
    "    \"\"\"\n",
    "    max_cores = multiprocess.cpu_count()\n",
    "    if cores > max_cores:\n",
    "        raise AttributeError(f\"Too many cpus requested. Please choose a number less than {max_cores}\")\n",
    "    \n",
    "    batch_number = cache_table.shape[0] // batch_size\n",
    "    pool = multiprocess.Pool(cores)\n",
    "    batches = np.array_split(ephys_table, batch_number)\n",
    "    for batch in batches:\n",
    "        session_list.extend(pool.map(session_query, cache_table.index))\n",
    "        \n",
    "    return session_list"
   ]
  },
  {
   "cell_type": "code",
   "execution_count": 41,
   "id": "b30c9abd-1d4d-46d8-a9ea-1fe88d8d157b",
   "metadata": {
    "tags": []
   },
   "outputs": [],
   "source": [
    "behavior_table = cache.get_behavior_session_table()\n",
    "behavior_table = behavior_table.loc[~behavior_table[\"ecephys_session_id\"].isna()]"
   ]
  },
  {
   "cell_type": "code",
   "execution_count": 43,
   "id": "6998c25c-6211-46e4-904f-d35a160eba13",
   "metadata": {
    "tags": []
   },
   "outputs": [
    {
     "data": {
      "text/plain": [
       "(103, 21)"
      ]
     },
     "execution_count": 43,
     "metadata": {},
     "output_type": "execute_result"
    }
   ],
   "source": [
    "ephys = cache.get_ecephys_session_table()\n",
    "ephys.shape"
   ]
  },
  {
   "cell_type": "code",
   "execution_count": null,
   "id": "7fd5922a-6f1d-428b-845c-339b4f9f46f6",
   "metadata": {},
   "outputs": [],
   "source": []
  },
  {
   "cell_type": "code",
   "execution_count": 26,
   "id": "b5d3f59f-20f0-4075-bf70-e09aab591f66",
   "metadata": {
    "tags": []
   },
   "outputs": [],
   "source": [
    "session_id = 1040882886\n",
    "session = cache.get_behavior_session(session_id)"
   ]
  },
  {
   "cell_type": "code",
   "execution_count": 27,
   "id": "3c2de498-20d2-4778-900b-c7fa79236e6c",
   "metadata": {
    "tags": []
   },
   "outputs": [],
   "source": [
    "session.get_performance_metrics()\n",
    "def get_hit_proportion(session):\n",
    "    metrics = session.get_performance_metric()\n",
    "    hit_rate = metrics[\"hit_trial_count\"]/metrics[\"go_trial_count\"]\n",
    "    return hit_rate"
   ]
  },
  {
   "cell_type": "code",
   "execution_count": 28,
   "id": "9137f955-efa9-4f48-9348-a7b177da1850",
   "metadata": {
    "tags": []
   },
   "outputs": [
    {
     "ename": "AttributeError",
     "evalue": "'BehaviorSession' object has no attribute 'get_performance_metric'",
     "output_type": "error",
     "traceback": [
      "\u001b[0;31m---------------------------------------------------------------------------\u001b[0m",
      "\u001b[0;31mAttributeError\u001b[0m                            Traceback (most recent call last)",
      "Cell \u001b[0;32mIn[28], line 1\u001b[0m\n\u001b[0;32m----> 1\u001b[0m \u001b[43mget_hit_proportion\u001b[49m\u001b[43m(\u001b[49m\u001b[43msession\u001b[49m\u001b[43m)\u001b[49m\n",
      "Cell \u001b[0;32mIn[27], line 3\u001b[0m, in \u001b[0;36mget_hit_proportion\u001b[0;34m(session)\u001b[0m\n\u001b[1;32m      2\u001b[0m \u001b[38;5;28;01mdef\u001b[39;00m \u001b[38;5;21mget_hit_proportion\u001b[39m(session):\n\u001b[0;32m----> 3\u001b[0m     metrics \u001b[38;5;241m=\u001b[39m \u001b[43msession\u001b[49m\u001b[38;5;241;43m.\u001b[39;49m\u001b[43mget_performance_metric\u001b[49m()\n\u001b[1;32m      4\u001b[0m     hit_rate \u001b[38;5;241m=\u001b[39m metrics[\u001b[38;5;124m\"\u001b[39m\u001b[38;5;124mhit_trial_count\u001b[39m\u001b[38;5;124m\"\u001b[39m]\u001b[38;5;241m/\u001b[39mmetrics[\u001b[38;5;124m\"\u001b[39m\u001b[38;5;124mgo_trial_count\u001b[39m\u001b[38;5;124m\"\u001b[39m]\n\u001b[1;32m      5\u001b[0m     \u001b[38;5;28;01mreturn\u001b[39;00m hit_rate\n",
      "\u001b[0;31mAttributeError\u001b[0m: 'BehaviorSession' object has no attribute 'get_performance_metric'"
     ]
    }
   ],
   "source": [
    "get_hit_proportion(session)"
   ]
  },
  {
   "cell_type": "code",
   "execution_count": null,
   "id": "6d0f7fcb-236e-40fb-b147-b1a1d2be00e9",
   "metadata": {},
   "outputs": [],
   "source": []
  }
 ],
 "metadata": {
  "kernelspec": {
   "display_name": "Python 3 (ipykernel)",
   "language": "python",
   "name": "python3"
  },
  "language_info": {
   "codemirror_mode": {
    "name": "ipython",
    "version": 3
   },
   "file_extension": ".py",
   "mimetype": "text/x-python",
   "name": "python",
   "nbconvert_exporter": "python",
   "pygments_lexer": "ipython3",
   "version": "3.9.12"
  }
 },
 "nbformat": 4,
 "nbformat_minor": 5
}
